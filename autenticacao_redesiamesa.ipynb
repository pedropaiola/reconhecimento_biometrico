{
 "cells": [
  {
   "cell_type": "markdown",
   "metadata": {},
   "source": [
    "<h1>Importando bibliotecas</h1>"
   ]
  },
  {
   "cell_type": "code",
   "execution_count": 31,
   "metadata": {},
   "outputs": [],
   "source": [
    "import numpy as np\n",
    "from matplotlib import pyplot as plt\n",
    "from PIL import Image, ImageDraw\n",
    "from numpy import asarray\n",
    "from scipy.spatial.distance import cosine\n",
    "from mtcnn.mtcnn import MTCNN\n",
    "from collections import defaultdict\n",
    "from glob import glob\n",
    "from random import choice, sample, shuffle\n",
    "from keras.preprocessing import image\n",
    "from keras_vggface.vggface import VGGFace\n",
    "from keras_vggface.utils import preprocess_input\n",
    "from keras_vggface.utils import decode_predictions\n",
    "from keras.callbacks import ModelCheckpoint, ReduceLROnPlateau, EarlyStopping\n",
    "from keras.layers import Input, Dense, GlobalMaxPool2D, GlobalAvgPool2D, Concatenate, Multiply, Dropout, Subtract, Reshape, Flatten\n",
    "from keras.models import Model\n",
    "from keras.optimizers import Adam, Adagrad, RMSprop\n",
    "from keras import regularizers\n",
    "from IPython.display import clear_output\n",
    "import tensorflow as tf\n",
    "import os\n",
    "import _pickle as cPickle\n",
    "from sklearn.metrics import roc_curve\n",
    "from sklearn.metrics import roc_auc_score\n",
    "from sklearn.metrics import f1_score\n",
    "import cv2\n",
    "#tf.get_logger().setLevel('WARNING')\n",
    "os.environ['CUDA_VISIBLE_DEVICES'] = '-1' #Por algum motivo o CUDA parou de funcionar pra mim ;-;\n"
   ]
  },
  {
   "cell_type": "markdown",
   "metadata": {},
   "source": [
    "<h1>Parâmetros e funções auxiliares</h1>"
   ]
  },
  {
   "cell_type": "code",
   "execution_count": 32,
   "metadata": {},
   "outputs": [],
   "source": [
    "dataset = 'Arface_mtcnn_v2/'\n",
    "faces = dataset + 'face/'\n",
    "qtdeHomens = 76 #76\n",
    "qtdeMulheres = 60 #60\n",
    "qtdePoses = 13 #13\n",
    "qtdeSessoes = 2"
   ]
  },
  {
   "cell_type": "code",
   "execution_count": 33,
   "metadata": {},
   "outputs": [],
   "source": [
    "def corrigirLimite(x, limS):\n",
    "    if x < 0:\n",
    "        return 0\n",
    "    if x > limS:\n",
    "        return limS\n",
    "    return x\n",
    "\n",
    "detector = MTCNN()\n",
    "\n",
    "#Extraindo face usando MTCNN\n",
    "def extract_face(filename, required_size=(224, 224)):\n",
    "    try:\n",
    "        pixels = plt.imread(filename)\n",
    "        h = pixels.shape[0]\n",
    "        w = pixels.shape[1]\n",
    "        results = detector.detect_faces(pixels)\n",
    "        x1, y1, width, height = results[0]['box']\n",
    "        x2, y2 = x1 + width, y1 + height\n",
    "\n",
    "        x1 = corrigirLimite(x1, w)\n",
    "        x2 = corrigirLimite(x2, w)\n",
    "        y1 = corrigirLimite(y1, h)\n",
    "        y2 = corrigirLimite(y2, h)\n",
    "\n",
    "        face = pixels[y1:y2, x1:x2]\n",
    "        image = Image.fromarray(face)\n",
    "        image = image.resize(required_size)\n",
    "        #face_array = asarray(image)\n",
    "        face_array = np.array(image).astype(np.float)\n",
    "        return preprocess_input(face_array, version=2)\n",
    "    except:\n",
    "        image = np.array(Image.new('RGB', (224, 224))).astype(np.float)\n",
    "        return preprocess_input(image, version=2)\n",
    "\n",
    "#Extraindo região ocular usando MTCNN\n",
    "def extract_eye(filename, s = 'left', required_size=(224, 224)):\n",
    "    try:\n",
    "        pixels = plt.imread(filename)\n",
    "        h = pixels.shape[0]\n",
    "        w = pixels.shape[1]\n",
    "        results = detector.detect_faces(pixels)\n",
    "        x, y, width, height = results[0]['box']\n",
    "\n",
    "        xMouthR, yMouthR = results[0]['keypoints']['mouth_right']\n",
    "        xMouthL, yMouthL = results[0]['keypoints']['mouth_left']\n",
    "        yMouthM = (yMouthR + yMouthL)//2\n",
    "        xMouthM = (xMouthR + xMouthL)//2\n",
    "        xEyeR, yEyeR = results[0]['keypoints']['right_eye']\n",
    "        xEyeL, yEyeL = results[0]['keypoints']['left_eye']\n",
    "        xEyeM = (xEyeR + xEyeL)//2\n",
    "        yEyeM = (yEyeR + yEyeL)//2\n",
    "        hEye = np.abs(yMouthM - yEyeM)//3\n",
    "\n",
    "        x1 = x2 = y1 = y2 = 0\n",
    "        if s == 'left':\n",
    "            y1 = yEyeL - hEye\n",
    "            y2 = yEyeL + hEye\n",
    "            x1 = x\n",
    "            x2 = xEyeM\n",
    "        else:\n",
    "            y1 = yEyeR - hEye\n",
    "            y2 = yEyeR + hEye\n",
    "            x1 = xEyeM\n",
    "            x2 = x + width\n",
    "\n",
    "        x1 = corrigirLimite(x1, w)\n",
    "        x2 = corrigirLimite(x2, w)\n",
    "        y1 = corrigirLimite(y1, h)\n",
    "        y2 = corrigirLimite(y2, h)\n",
    "\n",
    "        eye = pixels[y1:y2, x1:x2]\n",
    "        image = Image.fromarray(eye)\n",
    "        image = image.resize(required_size)\n",
    "        #eye_array = asarray(image)\n",
    "        eye_array = np.array(image).astype(np.float)\n",
    "        return preprocess_input(eye_array, version=2)\n",
    "    except:\n",
    "        image = np.array(Image.new('RGB', (224, 224))).astype(np.float)\n",
    "        return preprocess_input(image, version=2)"
   ]
  },
  {
   "cell_type": "code",
   "execution_count": 34,
   "metadata": {},
   "outputs": [],
   "source": [
    "def getPath(genero, idPessoa, pose = 1, sessao = 0):\n",
    "    pref = 'Cm'\n",
    "    if genero == 'F':\n",
    "        pref = 'Cw'\n",
    "    pessoa = '{:03d}'.format(idPessoa)\n",
    "    pose += sessao*qtdePoses\n",
    "    filepath = faces + pref + '-' + pessoa + '-' + str(pose) + '_face.bmp'\n",
    "    return filepath"
   ]
  },
  {
   "cell_type": "code",
   "execution_count": 35,
   "metadata": {},
   "outputs": [],
   "source": [
    "def abrirFace(genero, idPessoa, pose = 1, sessao = 0):\n",
    "    filepath = getPath(genero, idPessoa, pose, sessao)\n",
    "    return extract_face(filepath)"
   ]
  },
  {
   "cell_type": "code",
   "execution_count": 36,
   "metadata": {},
   "outputs": [],
   "source": [
    "def abrirOlho(genero, idPessoa, lado = 'left', pose = 1, sessao = 0):\n",
    "    filepath = getPath(genero, idPessoa, pose, sessao)\n",
    "    return extract_eye(filepath, lado)"
   ]
  },
  {
   "cell_type": "markdown",
   "metadata": {},
   "source": [
    "<h3>Preparando conjunto de treinamento, validação e teste</h3>"
   ]
  },
  {
   "cell_type": "code",
   "execution_count": 37,
   "metadata": {},
   "outputs": [],
   "source": [
    "def mesmaPessoa(i, j):\n",
    "    p1 = i // (qtdePoses * qtdeSessoes)\n",
    "    p2 = j // (qtdePoses * qtdeSessoes)\n",
    "    return p1 == p2"
   ]
  },
  {
   "cell_type": "code",
   "execution_count": null,
   "metadata": {},
   "outputs": [],
   "source": []
  },
  {
   "cell_type": "code",
   "execution_count": 38,
   "metadata": {},
   "outputs": [],
   "source": [
    "pessoas = []\n",
    "filenames = []\n",
    "qtdeArqs = 0\n",
    "\n",
    "idP = 0\n",
    "for h in range(qtdeHomens):\n",
    "    pessoas.append([])\n",
    "    for s in range(qtdeSessoes):\n",
    "        for p in range(qtdePoses):\n",
    "            filenames.append(getPath('M', h+1, p+1, s))\n",
    "            pessoas[idP].append(qtdeArqs)\n",
    "            qtdeArqs += 1\n",
    "    idP += 1\n",
    "\n",
    "for m in range(qtdeMulheres):\n",
    "    pessoas.append([])\n",
    "    for s in range(qtdeSessoes):\n",
    "        for p in range(qtdePoses):\n",
    "            filenames.append(getPath('F', m+1, p+1, s))\n",
    "            pessoas[idP].append(qtdeArqs)\n",
    "            qtdeArqs += 1\n",
    "    idP += 1"
   ]
  },
  {
   "cell_type": "code",
   "execution_count": 22,
   "metadata": {
    "scrolled": true
   },
   "outputs": [],
   "source": [
    "combinacoes = [x for x in range((qtdeHomens + qtdeMulheres)*qtdePoses*qtdeSessoes)]"
   ]
  },
  {
   "cell_type": "code",
   "execution_count": 23,
   "metadata": {},
   "outputs": [],
   "source": [
    "shuffle(combinacoes)"
   ]
  },
  {
   "cell_type": "code",
   "execution_count": 24,
   "metadata": {},
   "outputs": [],
   "source": [
    "porcTrain = 0.5\n",
    "porcVal = 0.2\n",
    "porcTest = 0.3"
   ]
  },
  {
   "cell_type": "code",
   "execution_count": 25,
   "metadata": {},
   "outputs": [],
   "source": [
    "pTrain = combinacoes[:int(porcTrain*len(combinacoes))]\n",
    "pVal = combinacoes[int(porcTrain*len(combinacoes)):int(porcTrain*len(combinacoes) + porcVal*len(combinacoes))]\n",
    "pTest = combinacoes[int(porcTrain*len(combinacoes) + porcVal*len(combinacoes)):]\n",
    "\n",
    "train = []\n",
    "for i in range(len(pTrain)):\n",
    "    for j in range(i+1, len(pTrain)):\n",
    "        if mesmaPessoa(pTrain[i], pTrain[j]):\n",
    "            train.append((pTrain[i],pTrain[j]))\n",
    "\n",
    "val = []\n",
    "for i in range(len(pVal)):\n",
    "    for j in range(i+1, len(pVal)):\n",
    "        if mesmaPessoa(pVal[i], pVal[j]):\n",
    "            val.append((pVal[i],pVal[j]))\n",
    "            \n",
    "test = []\n",
    "for i in range(len(pTest)):\n",
    "    for j in range(i+1, len(pTest)):\n",
    "        if mesmaPessoa(pTest[i], pTest[j]):\n",
    "            test.append((pTest[i],pTest[j]))\n",
    "\n",
    "with open('train.pkl', 'wb') as fid:\n",
    "    cPickle.dump(train, fid) \n",
    "with open('test.pkl', 'wb') as fid:\n",
    "    cPickle.dump(test, fid) \n",
    "with open('val.pkl', 'wb') as fid:\n",
    "    cPickle.dump(val, fid) \n"
   ]
  },
  {
   "cell_type": "code",
   "execution_count": 10,
   "metadata": {},
   "outputs": [],
   "source": [
    "with open('trainTF.pkl', 'rb') as fid:\n",
    "    train = cPickle.load(fid)\n",
    "with open('valTF.pkl', 'rb') as fid:\n",
    "    val = cPickle.load(fid)\n",
    "with open('testTF.pkl', 'rb') as fid:\n",
    "    test = cPickle.load(fid)"
   ]
  },
  {
   "cell_type": "code",
   "execution_count": 11,
   "metadata": {},
   "outputs": [
    {
     "data": {
      "text/plain": [
       "0.15503525583077202"
      ]
     },
     "execution_count": 11,
     "metadata": {},
     "output_type": "execute_result"
    }
   ],
   "source": [
    "len(val)/len(train)"
   ]
  },
  {
   "cell_type": "code",
   "execution_count": 13,
   "metadata": {},
   "outputs": [],
   "source": [
    "dictTrain = defaultdict(list)\n",
    "for tup in train:\n",
    "    dictTrain[tup[0]] = True\n",
    "    dictTrain[tup[1]] = True\n",
    "    \n",
    "dictVal = defaultdict(list)\n",
    "for tup in val:\n",
    "    dictVal[tup[0]] = True\n",
    "    dictVal[tup[1]] = True\n",
    "\n",
    "dictTest = defaultdict(list)\n",
    "for tup in test:\n",
    "    dictTest[tup[0]] = True\n",
    "    dictTest[tup[1]] = True"
   ]
  },
  {
   "cell_type": "code",
   "execution_count": null,
   "metadata": {},
   "outputs": [],
   "source": []
  },
  {
   "cell_type": "code",
   "execution_count": null,
   "metadata": {},
   "outputs": [],
   "source": []
  },
  {
   "cell_type": "code",
   "execution_count": null,
   "metadata": {},
   "outputs": [],
   "source": []
  },
  {
   "cell_type": "markdown",
   "metadata": {},
   "source": [
    "<h1>Definição do modelo</h1>\n",
    "e funções auxiliares"
   ]
  },
  {
   "cell_type": "code",
   "execution_count": 14,
   "metadata": {},
   "outputs": [],
   "source": [
    "#generator de batchs balanceados\n",
    "def gen(list_tuples, dict_people, filenames, batch_size=16):\n",
    "    ppl = list(dict_people.keys())\n",
    "    while True:\n",
    "        batch_tuples = sample(list_tuples, batch_size // 2)\n",
    "        labels = [1] * len(batch_tuples)\n",
    "        while len(batch_tuples) < batch_size:\n",
    "            p1 = choice(ppl)\n",
    "            p2 = choice(ppl)\n",
    "            \n",
    "            if p1 != p2 and (p1, p2) not in list_tuples and (p2, p1) not in list_tuples:\n",
    "                batch_tuples.append((p1, p2))\n",
    "                labels.append(0)\n",
    "                \n",
    "        X1 = [filenames[x[0]] for x in batch_tuples]\n",
    "        X1 = np.array([extract_face(x) for x in X1])\n",
    "\n",
    "        X2 = [filenames[x[1]] for x in batch_tuples]\n",
    "        X2 = np.array([extract_face(x) for x in X2])\n",
    "        \n",
    "        labels = np.array(labels)\n",
    "\n",
    "        yield [X1, X2], labels\n",
    "        #yield {'input_1': X1, 'input_2': X2}, {'output': labels}\n",
    " \n",
    "#Versão de test\n",
    "def genTest(list_tuples, dict_people, filenames, batch_size=16):\n",
    "    ppl = list(dict_people.keys())\n",
    "    batch_tuples = sample(list_tuples, batch_size // 2)\n",
    "    labels = [1] * len(batch_tuples)\n",
    "    while len(batch_tuples) < batch_size:\n",
    "        p1 = choice(ppl)\n",
    "        p2 = choice(ppl)\n",
    "\n",
    "        if p1 != p2 and (p1, p2) not in list_tuples and (p2, p1) not in list_tuples:\n",
    "            batch_tuples.append((p1, p2))\n",
    "            labels.append(0)\n",
    "\n",
    "    X1 = [filenames[x[0]] for x in batch_tuples]\n",
    "    X1 = np.array([extract_face(x) for x in X1])\n",
    "\n",
    "    X2 = [filenames[x[1]] for x in batch_tuples]\n",
    "    X2 = np.array([extract_face(x) for x in X2])\n",
    "\n",
    "    labels = np.array(labels)\n",
    "    return [X1, X2], labels"
   ]
  },
  {
   "cell_type": "code",
   "execution_count": 15,
   "metadata": {},
   "outputs": [],
   "source": [
    "def genEye(list_tuples, dict_people, filenames, batch_size=16):\n",
    "    ppl = list(dict_people.keys())\n",
    "    while True:\n",
    "        batch_tuples = sample(list_tuples, batch_size // 2)\n",
    "        labels = [1] * len(batch_tuples)\n",
    "        while len(batch_tuples) < batch_size:\n",
    "            p1 = choice(ppl)\n",
    "            p2 = choice(ppl)\n",
    "            \n",
    "            if p1 != p2 and (p1, p2) not in list_tuples and (p2, p1) not in list_tuples:\n",
    "                batch_tuples.append((p1, p2))\n",
    "                labels.append(0)\n",
    "                \n",
    "        X1 = [filenames[x[0]] for x in batch_tuples]\n",
    "        X1 = np.array([extract_eye(x) for x in X1])\n",
    "\n",
    "        X2 = [filenames[x[1]] for x in batch_tuples]\n",
    "        X2 = np.array([extract_eye(x) for x in X2])\n",
    "        \n",
    "        labels = np.array(labels)\n",
    "\n",
    "        yield [X1, X2], labels\n",
    "        #yield {'input_1': X1, 'input_2': X2}, {'output': labels}\n",
    "\n",
    "#Versão de test\n",
    "def genEyeTest(list_tuples, dict_people, filenames, batch_size=16):\n",
    "    ppl = list(dict_people.keys())\n",
    "    batch_tuples = sample(list_tuples, batch_size // 2)\n",
    "    labels = [1] * len(batch_tuples)\n",
    "    while len(batch_tuples) < batch_size:\n",
    "        p1 = choice(ppl)\n",
    "        p2 = choice(ppl)\n",
    "\n",
    "        if p1 != p2 and (p1, p2) not in list_tuples and (p2, p1) not in list_tuples:\n",
    "            batch_tuples.append((p1, p2))\n",
    "            labels.append(0)\n",
    "\n",
    "    X1 = [filenames[x[0]] for x in batch_tuples]\n",
    "    X1 = np.array([extract_eye(x) for x in X1])\n",
    "\n",
    "    X2 = [filenames[x[1]] for x in batch_tuples]\n",
    "    X2 = np.array([extract_eye(x) for x in X2])\n",
    "\n",
    "    labels = np.array(labels)\n",
    "    return [X1, X2], labels"
   ]
  },
  {
   "cell_type": "code",
   "execution_count": 134,
   "metadata": {},
   "outputs": [
    {
     "name": "stdout",
     "output_type": "stream",
     "text": [
      "WARNING:tensorflow:5 out of the last 331 calls to <function Model.make_predict_function.<locals>.predict_function at 0x0000016B56D5DE50> triggered tf.function retracing. Tracing is expensive and the excessive number of tracings could be due to (1) creating @tf.function repeatedly in a loop, (2) passing tensors with different shapes, (3) passing Python objects instead of tensors. For (1), please define your @tf.function outside of the loop. For (2), @tf.function has experimental_relax_shapes=True option that relaxes argument shapes that can avoid unnecessary retracing. For (3), please refer to https://www.tensorflow.org/tutorials/customization/performance#python_or_tensor_args and https://www.tensorflow.org/api_docs/python/tf/function for  more details.\n",
      "WARNING:tensorflow:5 out of the last 11 calls to <function Model.make_predict_function.<locals>.predict_function at 0x0000016B320DD280> triggered tf.function retracing. Tracing is expensive and the excessive number of tracings could be due to (1) creating @tf.function repeatedly in a loop, (2) passing tensors with different shapes, (3) passing Python objects instead of tensors. For (1), please define your @tf.function outside of the loop. For (2), @tf.function has experimental_relax_shapes=True option that relaxes argument shapes that can avoid unnecessary retracing. For (3), please refer to https://www.tensorflow.org/tutorials/customization/performance#python_or_tensor_args and https://www.tensorflow.org/api_docs/python/tf/function for  more details.\n"
     ]
    }
   ],
   "source": [
    "[X1, X2], labels = genEyeTest(train, dictTrain, filenames)"
   ]
  },
  {
   "cell_type": "code",
   "execution_count": 135,
   "metadata": {},
   "outputs": [
    {
     "data": {
      "text/plain": [
       "array([[[[-4.949530e+01, -6.088270e+01, -8.409120e+01],\n",
       "         [-4.649530e+01, -5.788270e+01, -8.009120e+01],\n",
       "         [-4.149530e+01, -5.188270e+01, -7.209120e+01],\n",
       "         ...,\n",
       "         [ 2.750470e+01,  4.611730e+01,  8.490880e+01],\n",
       "         [ 2.950470e+01,  4.511730e+01,  7.990880e+01],\n",
       "         [ 2.950470e+01,  4.411730e+01,  7.590880e+01]],\n",
       "\n",
       "        [[-4.949530e+01, -6.088270e+01, -8.409120e+01],\n",
       "         [-4.649530e+01, -5.788270e+01, -8.009120e+01],\n",
       "         [-4.149530e+01, -5.188270e+01, -7.209120e+01],\n",
       "         ...,\n",
       "         [ 2.750470e+01,  4.611730e+01,  8.490880e+01],\n",
       "         [ 2.950470e+01,  4.511730e+01,  7.990880e+01],\n",
       "         [ 2.950470e+01,  4.411730e+01,  7.690880e+01]],\n",
       "\n",
       "        [[-4.949530e+01, -6.088270e+01, -8.409120e+01],\n",
       "         [-4.649530e+01, -5.788270e+01, -8.009120e+01],\n",
       "         [-4.149530e+01, -5.188270e+01, -7.109120e+01],\n",
       "         ...,\n",
       "         [ 2.850470e+01,  4.511730e+01,  8.390880e+01],\n",
       "         [ 2.950470e+01,  4.411730e+01,  8.090880e+01],\n",
       "         [ 2.950470e+01,  4.411730e+01,  7.890880e+01]],\n",
       "\n",
       "        ...,\n",
       "\n",
       "        [[ 9.504700e+00, -8.827000e-01, -1.809120e+01],\n",
       "         [ 1.350470e+01,  7.117300e+00, -1.009120e+01],\n",
       "         [ 2.150470e+01,  2.411730e+01,  6.908800e+00],\n",
       "         ...,\n",
       "         [ 1.950470e+01,  4.111730e+01,  8.790880e+01],\n",
       "         [ 1.850470e+01,  4.011730e+01,  8.690880e+01],\n",
       "         [ 1.750470e+01,  4.011730e+01,  8.590880e+01]],\n",
       "\n",
       "        [[ 1.050470e+01, -2.882700e+00, -1.709120e+01],\n",
       "         [ 1.450470e+01,  5.117300e+00, -9.091200e+00],\n",
       "         [ 2.150470e+01,  2.211730e+01,  7.908800e+00],\n",
       "         ...,\n",
       "         [ 2.150470e+01,  4.111730e+01,  8.890880e+01],\n",
       "         [ 2.050470e+01,  4.011730e+01,  8.790880e+01],\n",
       "         [ 2.050470e+01,  4.011730e+01,  8.690880e+01]],\n",
       "\n",
       "        [[ 1.050470e+01, -3.882700e+00, -1.709120e+01],\n",
       "         [ 1.450470e+01,  4.117300e+00, -9.091200e+00],\n",
       "         [ 2.150470e+01,  2.111730e+01,  7.908800e+00],\n",
       "         ...,\n",
       "         [ 2.250470e+01,  4.111730e+01,  8.890880e+01],\n",
       "         [ 2.150470e+01,  4.011730e+01,  8.790880e+01],\n",
       "         [ 2.150470e+01,  4.011730e+01,  8.690880e+01]]],\n",
       "\n",
       "\n",
       "       [[[-6.449530e+01, -7.188270e+01, -8.809120e+01],\n",
       "         [-6.349530e+01, -7.188270e+01, -9.009120e+01],\n",
       "         [-6.449530e+01, -7.388270e+01, -9.409120e+01],\n",
       "         ...,\n",
       "         [ 2.450470e+01,  5.511730e+01,  1.099088e+02],\n",
       "         [ 2.450470e+01,  5.411730e+01,  1.049088e+02],\n",
       "         [ 2.450470e+01,  5.311730e+01,  1.019088e+02]],\n",
       "\n",
       "        [[-6.349530e+01, -7.188270e+01, -8.809120e+01],\n",
       "         [-6.349530e+01, -7.188270e+01, -9.009120e+01],\n",
       "         [-6.449530e+01, -7.388270e+01, -9.409120e+01],\n",
       "         ...,\n",
       "         [ 2.550470e+01,  5.511730e+01,  1.099088e+02],\n",
       "         [ 2.450470e+01,  5.411730e+01,  1.059088e+02],\n",
       "         [ 2.450470e+01,  5.311730e+01,  1.029088e+02]],\n",
       "\n",
       "        [[-6.149530e+01, -7.188270e+01, -8.809120e+01],\n",
       "         [-6.249530e+01, -7.188270e+01, -9.009120e+01],\n",
       "         [-6.349530e+01, -7.388270e+01, -9.409120e+01],\n",
       "         ...,\n",
       "         [ 2.750470e+01,  5.411730e+01,  1.109088e+02],\n",
       "         [ 2.550470e+01,  5.311730e+01,  1.079088e+02],\n",
       "         [ 2.550470e+01,  5.211730e+01,  1.059088e+02]],\n",
       "\n",
       "        ...,\n",
       "\n",
       "        [[-4.149530e+01, -4.388270e+01, -5.309120e+01],\n",
       "         [-4.149530e+01, -4.388270e+01, -5.209120e+01],\n",
       "         [-4.149530e+01, -4.188270e+01, -5.009120e+01],\n",
       "         ...,\n",
       "         [ 2.504700e+00,  3.311730e+01,  8.490880e+01],\n",
       "         [ 5.504700e+00,  3.711730e+01,  9.090880e+01],\n",
       "         [ 7.504700e+00,  4.011730e+01,  9.390880e+01]],\n",
       "\n",
       "        [[-4.049530e+01, -4.288270e+01, -5.209120e+01],\n",
       "         [-4.049530e+01, -4.288270e+01, -5.109120e+01],\n",
       "         [-4.049530e+01, -4.088270e+01, -4.909120e+01],\n",
       "         ...,\n",
       "         [ 1.504700e+00,  3.111730e+01,  8.090880e+01],\n",
       "         [ 4.504700e+00,  3.511730e+01,  8.790880e+01],\n",
       "         [ 5.504700e+00,  3.811730e+01,  9.090880e+01]],\n",
       "\n",
       "        [[-4.049530e+01, -4.288270e+01, -5.209120e+01],\n",
       "         [-4.049530e+01, -4.288270e+01, -5.109120e+01],\n",
       "         [-4.049530e+01, -4.088270e+01, -4.909120e+01],\n",
       "         ...,\n",
       "         [ 1.504700e+00,  3.011730e+01,  7.990880e+01],\n",
       "         [ 4.504700e+00,  3.411730e+01,  8.690880e+01],\n",
       "         [ 4.504700e+00,  3.711730e+01,  8.990880e+01]]],\n",
       "\n",
       "\n",
       "       [[[-3.949530e+01, -4.688270e+01, -6.809120e+01],\n",
       "         [-3.949530e+01, -4.688270e+01, -6.909120e+01],\n",
       "         [-3.949530e+01, -4.688270e+01, -7.109120e+01],\n",
       "         ...,\n",
       "         [ 3.350470e+01,  5.111730e+01,  9.790880e+01],\n",
       "         [ 3.350470e+01,  5.011730e+01,  9.990880e+01],\n",
       "         [ 3.350470e+01,  5.011730e+01,  9.990880e+01]],\n",
       "\n",
       "        [[-3.949530e+01, -4.688270e+01, -6.809120e+01],\n",
       "         [-3.949530e+01, -4.688270e+01, -6.909120e+01],\n",
       "         [-3.949530e+01, -4.688270e+01, -7.109120e+01],\n",
       "         ...,\n",
       "         [ 3.350470e+01,  5.111730e+01,  9.790880e+01],\n",
       "         [ 3.350470e+01,  5.011730e+01,  9.990880e+01],\n",
       "         [ 3.350470e+01,  5.011730e+01,  9.990880e+01]],\n",
       "\n",
       "        [[-3.949530e+01, -4.688270e+01, -6.809120e+01],\n",
       "         [-3.949530e+01, -4.688270e+01, -6.909120e+01],\n",
       "         [-3.849530e+01, -4.688270e+01, -7.109120e+01],\n",
       "         ...,\n",
       "         [ 3.350470e+01,  5.111730e+01,  9.890880e+01],\n",
       "         [ 3.350470e+01,  5.011730e+01,  9.990880e+01],\n",
       "         [ 3.250470e+01,  4.911730e+01,  9.990880e+01]],\n",
       "\n",
       "        ...,\n",
       "\n",
       "        [[-4.953000e-01, -1.882700e+00,  2.590880e+01],\n",
       "         [ 1.504700e+00,  1.117300e+00,  2.390880e+01],\n",
       "         [ 7.504700e+00,  8.117300e+00,  1.990880e+01],\n",
       "         ...,\n",
       "         [ 2.050470e+01,  4.611730e+01,  8.690880e+01],\n",
       "         [ 1.850470e+01,  4.111730e+01,  8.190880e+01],\n",
       "         [ 1.750470e+01,  3.911730e+01,  7.990880e+01]],\n",
       "\n",
       "        [[ 5.047000e-01, -8.827000e-01,  2.690880e+01],\n",
       "         [ 2.504700e+00,  2.117300e+00,  2.490880e+01],\n",
       "         [ 7.504700e+00,  9.117300e+00,  2.090880e+01],\n",
       "         ...,\n",
       "         [ 2.050470e+01,  4.611730e+01,  8.590880e+01],\n",
       "         [ 1.850470e+01,  4.111730e+01,  8.190880e+01],\n",
       "         [ 1.750470e+01,  3.911730e+01,  7.990880e+01]],\n",
       "\n",
       "        [[ 5.047000e-01,  1.173000e-01,  2.690880e+01],\n",
       "         [ 2.504700e+00,  3.117300e+00,  2.490880e+01],\n",
       "         [ 7.504700e+00,  1.011730e+01,  2.190880e+01],\n",
       "         ...,\n",
       "         [ 2.050470e+01,  4.611730e+01,  8.590880e+01],\n",
       "         [ 1.850470e+01,  4.111730e+01,  8.190880e+01],\n",
       "         [ 1.750470e+01,  3.911730e+01,  7.990880e+01]]],\n",
       "\n",
       "\n",
       "       ...,\n",
       "\n",
       "\n",
       "       [[[-7.049530e+01, -8.388270e+01, -1.110912e+02],\n",
       "         [-7.049530e+01, -8.388270e+01, -1.110912e+02],\n",
       "         [-6.949530e+01, -8.288270e+01, -1.100912e+02],\n",
       "         ...,\n",
       "         [ 1.350470e+01,  4.811730e+01,  9.990880e+01],\n",
       "         [ 1.750470e+01,  4.911730e+01,  1.009088e+02],\n",
       "         [ 1.850470e+01,  4.911730e+01,  1.009088e+02]],\n",
       "\n",
       "        [[-7.049530e+01, -8.388270e+01, -1.110912e+02],\n",
       "         [-7.049530e+01, -8.388270e+01, -1.110912e+02],\n",
       "         [-6.949530e+01, -8.288270e+01, -1.100912e+02],\n",
       "         ...,\n",
       "         [ 1.450470e+01,  4.811730e+01,  9.890880e+01],\n",
       "         [ 1.750470e+01,  4.911730e+01,  9.990880e+01],\n",
       "         [ 1.850470e+01,  4.911730e+01,  9.990880e+01]],\n",
       "\n",
       "        [[-7.049530e+01, -8.388270e+01, -1.120912e+02],\n",
       "         [-7.049530e+01, -8.388270e+01, -1.120912e+02],\n",
       "         [-6.949530e+01, -8.288270e+01, -1.100912e+02],\n",
       "         ...,\n",
       "         [ 1.650470e+01,  4.711730e+01,  9.690880e+01],\n",
       "         [ 1.850470e+01,  4.911730e+01,  9.690880e+01],\n",
       "         [ 1.950470e+01,  4.911730e+01,  9.690880e+01]],\n",
       "\n",
       "        ...,\n",
       "\n",
       "        [[-6.249530e+01, -7.288270e+01, -8.709120e+01],\n",
       "         [-6.249530e+01, -7.088270e+01, -8.509120e+01],\n",
       "         [-6.149530e+01, -6.788270e+01, -8.109120e+01],\n",
       "         ...,\n",
       "         [ 2.050470e+01,  4.911730e+01,  9.990880e+01],\n",
       "         [ 2.250470e+01,  4.811730e+01,  9.990880e+01],\n",
       "         [ 2.150470e+01,  4.811730e+01,  1.009088e+02]],\n",
       "\n",
       "        [[-6.249530e+01, -7.388270e+01, -8.709120e+01],\n",
       "         [-6.249530e+01, -7.188270e+01, -8.509120e+01],\n",
       "         [-6.149530e+01, -6.888270e+01, -8.109120e+01],\n",
       "         ...,\n",
       "         [ 1.950470e+01,  4.911730e+01,  1.009088e+02],\n",
       "         [ 2.050470e+01,  4.711730e+01,  9.990880e+01],\n",
       "         [ 2.050470e+01,  4.611730e+01,  9.990880e+01]],\n",
       "\n",
       "        [[-6.249530e+01, -7.388270e+01, -8.709120e+01],\n",
       "         [-6.249530e+01, -7.188270e+01, -8.509120e+01],\n",
       "         [-6.149530e+01, -6.888270e+01, -8.109120e+01],\n",
       "         ...,\n",
       "         [ 1.950470e+01,  4.911730e+01,  1.009088e+02],\n",
       "         [ 2.050470e+01,  4.711730e+01,  9.990880e+01],\n",
       "         [ 2.050470e+01,  4.511730e+01,  9.990880e+01]]],\n",
       "\n",
       "\n",
       "       [[[-6.049530e+01, -7.388270e+01, -1.030912e+02],\n",
       "         [-6.049530e+01, -7.388270e+01, -1.030912e+02],\n",
       "         [-6.149530e+01, -7.388270e+01, -1.020912e+02],\n",
       "         ...,\n",
       "         [ 1.550470e+01,  2.411730e+01,  7.790880e+01],\n",
       "         [ 1.350470e+01,  2.511730e+01,  7.790880e+01],\n",
       "         [ 1.250470e+01,  2.511730e+01,  7.790880e+01]],\n",
       "\n",
       "        [[-6.049530e+01, -7.388270e+01, -1.030912e+02],\n",
       "         [-6.049530e+01, -7.388270e+01, -1.030912e+02],\n",
       "         [-6.149530e+01, -7.388270e+01, -1.020912e+02],\n",
       "         ...,\n",
       "         [ 1.650470e+01,  2.411730e+01,  7.790880e+01],\n",
       "         [ 1.450470e+01,  2.511730e+01,  7.790880e+01],\n",
       "         [ 1.350470e+01,  2.511730e+01,  7.790880e+01]],\n",
       "\n",
       "        [[-6.049530e+01, -7.488270e+01, -1.020912e+02],\n",
       "         [-6.049530e+01, -7.488270e+01, -1.020912e+02],\n",
       "         [-6.249530e+01, -7.388270e+01, -1.010912e+02],\n",
       "         ...,\n",
       "         [ 1.750470e+01,  2.511730e+01,  7.790880e+01],\n",
       "         [ 1.550470e+01,  2.511730e+01,  7.890880e+01],\n",
       "         [ 1.450470e+01,  2.511730e+01,  7.890880e+01]],\n",
       "\n",
       "        ...,\n",
       "\n",
       "        [[-7.049530e+01, -8.388270e+01, -9.909120e+01],\n",
       "         [-6.949530e+01, -8.288270e+01, -9.909120e+01],\n",
       "         [-6.849530e+01, -7.988270e+01, -9.809120e+01],\n",
       "         ...,\n",
       "         [ 2.504700e+00,  8.117300e+00,  5.290880e+01],\n",
       "         [ 2.504700e+00,  8.117300e+00,  5.790880e+01],\n",
       "         [ 3.504700e+00,  8.117300e+00,  5.990880e+01]],\n",
       "\n",
       "        [[-7.049530e+01, -8.388270e+01, -9.809120e+01],\n",
       "         [-6.949530e+01, -8.288270e+01, -9.809120e+01],\n",
       "         [-6.749530e+01, -7.988270e+01, -9.609120e+01],\n",
       "         ...,\n",
       "         [ 3.504700e+00,  8.117300e+00,  5.190880e+01],\n",
       "         [ 2.504700e+00,  9.117300e+00,  5.790880e+01],\n",
       "         [ 2.504700e+00,  9.117300e+00,  6.090880e+01]],\n",
       "\n",
       "        [[-7.049530e+01, -8.388270e+01, -9.709120e+01],\n",
       "         [-6.949530e+01, -8.288270e+01, -9.709120e+01],\n",
       "         [-6.749530e+01, -7.988270e+01, -9.509120e+01],\n",
       "         ...,\n",
       "         [ 3.504700e+00,  8.117300e+00,  5.190880e+01],\n",
       "         [ 2.504700e+00,  9.117300e+00,  5.790880e+01],\n",
       "         [ 2.504700e+00,  9.117300e+00,  6.090880e+01]]],\n",
       "\n",
       "\n",
       "       [[[-1.949530e+01, -1.488270e+01, -1.409120e+01],\n",
       "         [-1.849530e+01, -1.488270e+01, -1.309120e+01],\n",
       "         [-1.549530e+01, -1.388270e+01, -1.109120e+01],\n",
       "         ...,\n",
       "         [ 5.750470e+01,  9.011730e+01,  1.239088e+02],\n",
       "         [ 5.750470e+01,  9.211730e+01,  1.239088e+02],\n",
       "         [ 5.750470e+01,  9.311730e+01,  1.239088e+02]],\n",
       "\n",
       "        [[-1.949530e+01, -1.488270e+01, -1.409120e+01],\n",
       "         [-1.849530e+01, -1.488270e+01, -1.309120e+01],\n",
       "         [-1.549530e+01, -1.388270e+01, -1.109120e+01],\n",
       "         ...,\n",
       "         [ 5.750470e+01,  9.011730e+01,  1.239088e+02],\n",
       "         [ 5.750470e+01,  9.211730e+01,  1.239088e+02],\n",
       "         [ 5.750470e+01,  9.311730e+01,  1.239088e+02]],\n",
       "\n",
       "        [[-1.949530e+01, -1.388270e+01, -1.509120e+01],\n",
       "         [-1.849530e+01, -1.388270e+01, -1.409120e+01],\n",
       "         [-1.549530e+01, -1.288270e+01, -1.209120e+01],\n",
       "         ...,\n",
       "         [ 5.750470e+01,  9.011730e+01,  1.239088e+02],\n",
       "         [ 5.750470e+01,  9.111730e+01,  1.239088e+02],\n",
       "         [ 5.750470e+01,  9.211730e+01,  1.239088e+02]],\n",
       "\n",
       "        ...,\n",
       "\n",
       "        [[ 1.050470e+01,  2.611730e+01,  2.390880e+01],\n",
       "         [ 9.504700e+00,  2.411730e+01,  2.490880e+01],\n",
       "         [ 7.504700e+00,  2.211730e+01,  2.390880e+01],\n",
       "         ...,\n",
       "         [ 4.450470e+01,  7.411730e+01,  1.239088e+02],\n",
       "         [ 4.750470e+01,  7.711730e+01,  1.239088e+02],\n",
       "         [ 4.950470e+01,  7.911730e+01,  1.239088e+02]],\n",
       "\n",
       "        [[ 8.504700e+00,  2.511730e+01,  2.590880e+01],\n",
       "         [ 7.504700e+00,  2.411730e+01,  2.590880e+01],\n",
       "         [ 5.504700e+00,  2.211730e+01,  2.490880e+01],\n",
       "         ...,\n",
       "         [ 4.650470e+01,  7.411730e+01,  1.239088e+02],\n",
       "         [ 4.950470e+01,  7.811730e+01,  1.239088e+02],\n",
       "         [ 5.150470e+01,  8.111730e+01,  1.239088e+02]],\n",
       "\n",
       "        [[ 7.504700e+00,  2.511730e+01,  2.690880e+01],\n",
       "         [ 6.504700e+00,  2.411730e+01,  2.690880e+01],\n",
       "         [ 4.504700e+00,  2.211730e+01,  2.490880e+01],\n",
       "         ...,\n",
       "         [ 4.750470e+01,  7.411730e+01,  1.239088e+02],\n",
       "         [ 5.050470e+01,  7.811730e+01,  1.239088e+02],\n",
       "         [ 5.250470e+01,  8.211730e+01,  1.239088e+02]]]])"
      ]
     },
     "execution_count": 135,
     "metadata": {},
     "output_type": "execute_result"
    }
   ],
   "source": [
    "X1"
   ]
  },
  {
   "cell_type": "code",
   "execution_count": 16,
   "metadata": {},
   "outputs": [],
   "source": [
    "#Arquitetura da rede siamesa: https://www.kaggle.com/castep/vggface\n",
    "def baseline_model():\n",
    "    input_1 = Input(shape=(224, 224, 3))\n",
    "    input_2 = Input(shape=(224, 224, 3))\n",
    "\n",
    "    base_model = VGGFace(model='resnet50', include_top=False)\n",
    "\n",
    "    for x in base_model.layers:\n",
    "        x.trainable = False\n",
    "\n",
    "    x1 = base_model(input_1)\n",
    "    x2 = base_model(input_2)\n",
    "    \n",
    "    x = Concatenate()([x1, x2])\n",
    "    x = Flatten()(x)\n",
    "    x = Dense(512, activation=\"relu\",kernel_regularizer=regularizers.l2(0.01))(x)\n",
    "    x = Dropout(0.5)(x)\n",
    "    #x = Dense(128, activation=\"relu\",kernel_regularizer=regularizers.l2(0.01))(x)\n",
    "    out = Dense(1, activation=\"sigmoid\")(x)\n",
    "\n",
    "    model = Model([input_1, input_2], out)\n",
    "\n",
    "    model.compile(loss=\"binary_crossentropy\", metrics=['acc'], optimizer=RMSprop(lr=1e-4))\n",
    "\n",
    "    model.summary()\n",
    "\n",
    "    return model"
   ]
  },
  {
   "cell_type": "markdown",
   "metadata": {},
   "source": [
    "<h1>Treinamento</h1>"
   ]
  },
  {
   "cell_type": "code",
   "execution_count": 18,
   "metadata": {},
   "outputs": [
    {
     "name": "stdout",
     "output_type": "stream",
     "text": [
      "Model: \"functional_7\"\n",
      "__________________________________________________________________________________________________\n",
      "Layer (type)                    Output Shape         Param #     Connected to                     \n",
      "==================================================================================================\n",
      "input_4 (InputLayer)            [(None, 224, 224, 3) 0                                            \n",
      "__________________________________________________________________________________________________\n",
      "input_5 (InputLayer)            [(None, 224, 224, 3) 0                                            \n",
      "__________________________________________________________________________________________________\n",
      "vggface_resnet50 (Functional)   (None, None, None, 2 23561152    input_4[0][0]                    \n",
      "                                                                 input_5[0][0]                    \n",
      "__________________________________________________________________________________________________\n",
      "concatenate (Concatenate)       (None, 1, 1, 4096)   0           vggface_resnet50[0][0]           \n",
      "                                                                 vggface_resnet50[1][0]           \n",
      "__________________________________________________________________________________________________\n",
      "flatten_2 (Flatten)             (None, 4096)         0           concatenate[0][0]                \n",
      "__________________________________________________________________________________________________\n",
      "dense_7 (Dense)                 (None, 512)          2097664     flatten_2[0][0]                  \n",
      "__________________________________________________________________________________________________\n",
      "dropout (Dropout)               (None, 512)          0           dense_7[0][0]                    \n",
      "__________________________________________________________________________________________________\n",
      "dense_8 (Dense)                 (None, 1)            513         dropout[0][0]                    \n",
      "==================================================================================================\n",
      "Total params: 25,659,329\n",
      "Trainable params: 2,098,177\n",
      "Non-trainable params: 23,561,152\n",
      "__________________________________________________________________________________________________\n"
     ]
    }
   ],
   "source": [
    "file_path = \"vgg_face.h5\"\n",
    "\n",
    "#checkpoint = ModelCheckpoint(file_path, monitor='val_acc', verbose=1, save_best_only=True, mode='max')\n",
    "\n",
    "#reduce_on_plateau = ReduceLROnPlateau(monitor=\"val_acc\", mode=\"max\", factor=0.1, patience=20, verbose=1)\n",
    "\n",
    "#es = EarlyStopping(monitor='val_acc',patience=20)\n",
    "\n",
    "#callbacks_list = [checkpoint, reduce_on_plateau]\n",
    "\n",
    "model = baseline_model()\n",
    "model.load_weights(file_path) #carregando os pesos do treinamento já realizado\n",
    "#model.fit_generator(gen(train, dictTrain, filenames, batch_size=8), use_multiprocessing=False,\n",
    "#                   validation_data=gen(val, dictVal, filenames, batch_size=8), epochs=36, verbose=1,\n",
    "#                    workers=1, callbacks=callbacks_list, steps_per_epoch=96, validation_steps=32)"
   ]
  },
  {
   "cell_type": "code",
   "execution_count": 20,
   "metadata": {},
   "outputs": [],
   "source": [
    "yTest = [1] * 4 + [0] * 4\n",
    "num_test = 625\n",
    "yTest = yTest * num_test\n",
    "#print('Iniciando predição')\n",
    "#pred2 = model.predict_generator(gen(test, dictTest, filenames, batch_size=8), num_test, verbose=1)\n",
    "#print('Predição realizada')\n",
    "#with open('pred.pkl', 'wb') as fid:\n",
    "#    cPickle.dump(pred2, fid) \n",
    "with open('predTF.pkl', 'rb') as fid:\n",
    "    pred2 = cPickle.load(fid)"
   ]
  },
  {
   "cell_type": "code",
   "execution_count": 23,
   "metadata": {},
   "outputs": [],
   "source": [
    "with open('actualTF.pkl', 'wb') as fid:\n",
    "    cPickle.dump(yTest, fid) "
   ]
  },
  {
   "cell_type": "code",
   "execution_count": null,
   "metadata": {},
   "outputs": [],
   "source": []
  },
  {
   "cell_type": "code",
   "execution_count": 21,
   "metadata": {},
   "outputs": [],
   "source": [
    "fpr, tpr, thres = roc_curve(yTest, pred2)"
   ]
  },
  {
   "cell_type": "code",
   "execution_count": 22,
   "metadata": {},
   "outputs": [
    {
     "data": {
      "text/plain": [
       "Text(0, 0.5, 'True Positive Rate')"
      ]
     },
     "execution_count": 22,
     "metadata": {},
     "output_type": "execute_result"
    },
    {
     "data": {
      "image/png": "[encoded data removed]",
      "text/plain": [
       "<Figure size 432x288 with 1 Axes>"
      ]
     },
     "metadata": {
      "needs_background": "light"
     },
     "output_type": "display_data"
    }
   ],
   "source": [
    "plt.plot(fpr, tpr, marker='.')\n",
    "plt.xlabel('False Positive Rate')\n",
    "plt.ylabel('True Positive Rate')"
   ]
  },
  {
   "cell_type": "markdown",
   "metadata": {},
   "source": [
    "<h1>Apenas faces neutras</h1>"
   ]
  },
  {
   "cell_type": "code",
   "execution_count": 78,
   "metadata": {
    "scrolled": true
   },
   "outputs": [
    {
     "data": {
      "text/plain": [
       "136"
      ]
     },
     "execution_count": 78,
     "metadata": {},
     "output_type": "execute_result"
    }
   ],
   "source": [
    "combinacoes = []\n",
    "for x in range((qtdeHomens + qtdeMulheres)*qtdePoses*qtdeSessoes):\n",
    "    if mesmaPessoa(x, x-qtdePoses):\n",
    "        continue\n",
    "    if x % qtdePoses == 0:\n",
    "        combinacoes.append(x)\n",
    "len(combinacoes)"
   ]
  },
  {
   "cell_type": "code",
   "execution_count": 79,
   "metadata": {},
   "outputs": [],
   "source": [
    "shuffle(combinacoes)"
   ]
  },
  {
   "cell_type": "code",
   "execution_count": 80,
   "metadata": {},
   "outputs": [],
   "source": [
    "porcTrain = 0.5\n",
    "porcVal = 0.2\n",
    "porcTest = 0.3"
   ]
  },
  {
   "cell_type": "code",
   "execution_count": 81,
   "metadata": {},
   "outputs": [],
   "source": [
    "pTrain = combinacoes[:int(porcTrain*len(combinacoes))]\n",
    "pVal = combinacoes[int(porcTrain*len(combinacoes)):int(porcTrain*len(combinacoes) + porcVal*len(combinacoes))]\n",
    "pTest = combinacoes[int(porcTrain*len(combinacoes) + porcVal*len(combinacoes)):]\n",
    "\n",
    "train = []\n",
    "for i in range(len(pTrain)):\n",
    "    train.append((pTrain[i],pTrain[i] + qtdePoses))\n",
    "\n",
    "val = []\n",
    "for i in range(len(pVal)):\n",
    "    val.append((pVal[i],pVal[i] + qtdePoses))\n",
    "            \n",
    "test = []\n",
    "for i in range(len(pTest)):\n",
    "    test.append((pTest[i],pTest[i] + qtdePoses))\n",
    "\n",
    "with open('trainFN.pkl', 'wb') as fid:\n",
    "    cPickle.dump(train, fid) \n",
    "with open('testFN.pkl', 'wb') as fid:\n",
    "    cPickle.dump(test, fid) \n",
    "with open('valFN.pkl', 'wb') as fid:\n",
    "    cPickle.dump(val, fid) \n"
   ]
  },
  {
   "cell_type": "code",
   "execution_count": 24,
   "metadata": {},
   "outputs": [],
   "source": [
    "with open('trainFN.pkl', 'rb') as fid:\n",
    "    train = cPickle.load(fid)\n",
    "with open('valFN.pkl', 'rb') as fid:\n",
    "    val = cPickle.load(fid)\n",
    "with open('testFN.pkl', 'rb') as fid:\n",
    "    test = cPickle.load(fid)"
   ]
  },
  {
   "cell_type": "code",
   "execution_count": 86,
   "metadata": {},
   "outputs": [],
   "source": [
    "for tup in train:\n",
    "    if not mesmaPessoa(tup[0], tup[1]):\n",
    "        print('Problema!')"
   ]
  },
  {
   "cell_type": "code",
   "execution_count": null,
   "metadata": {},
   "outputs": [],
   "source": []
  },
  {
   "cell_type": "code",
   "execution_count": 25,
   "metadata": {},
   "outputs": [],
   "source": [
    "dictTrain = defaultdict(list)\n",
    "for tup in train:\n",
    "    dictTrain[tup[0]] = True\n",
    "    dictTrain[tup[1]] = True\n",
    "    \n",
    "dictVal = defaultdict(list)\n",
    "for tup in val:\n",
    "    dictVal[tup[0]] = True\n",
    "    dictVal[tup[1]] = True\n",
    "\n",
    "dictTest = defaultdict(list)\n",
    "for tup in test:\n",
    "    dictTest[tup[0]] = True\n",
    "    dictTest[tup[1]] = True"
   ]
  },
  {
   "cell_type": "code",
   "execution_count": null,
   "metadata": {},
   "outputs": [],
   "source": []
  },
  {
   "cell_type": "code",
   "execution_count": 26,
   "metadata": {},
   "outputs": [
    {
     "name": "stdout",
     "output_type": "stream",
     "text": [
      "Model: \"functional_9\"\n",
      "__________________________________________________________________________________________________\n",
      "Layer (type)                    Output Shape         Param #     Connected to                     \n",
      "==================================================================================================\n",
      "input_7 (InputLayer)            [(None, 224, 224, 3) 0                                            \n",
      "__________________________________________________________________________________________________\n",
      "input_8 (InputLayer)            [(None, 224, 224, 3) 0                                            \n",
      "__________________________________________________________________________________________________\n",
      "vggface_resnet50 (Functional)   (None, None, None, 2 23561152    input_7[0][0]                    \n",
      "                                                                 input_8[0][0]                    \n",
      "__________________________________________________________________________________________________\n",
      "concatenate_1 (Concatenate)     (None, 1, 1, 4096)   0           vggface_resnet50[0][0]           \n",
      "                                                                 vggface_resnet50[1][0]           \n",
      "__________________________________________________________________________________________________\n",
      "flatten_3 (Flatten)             (None, 4096)         0           concatenate_1[0][0]              \n",
      "__________________________________________________________________________________________________\n",
      "dense_9 (Dense)                 (None, 512)          2097664     flatten_3[0][0]                  \n",
      "__________________________________________________________________________________________________\n",
      "dropout_1 (Dropout)             (None, 512)          0           dense_9[0][0]                    \n",
      "__________________________________________________________________________________________________\n",
      "dense_10 (Dense)                (None, 1)            513         dropout_1[0][0]                  \n",
      "==================================================================================================\n",
      "Total params: 25,659,329\n",
      "Trainable params: 2,098,177\n",
      "Non-trainable params: 23,561,152\n",
      "__________________________________________________________________________________________________\n"
     ]
    }
   ],
   "source": [
    "file_path = \"vgg_face_neutral.h5\"\n",
    "\n",
    "#checkpoint = ModelCheckpoint(file_path, monitor='val_acc', verbose=1, save_best_only=True, mode='max')\n",
    "\n",
    "#reduce_on_plateau = ReduceLROnPlateau(monitor=\"val_acc\", mode=\"max\", factor=0.1, patience=20, verbose=1)\n",
    "\n",
    "#es = EarlyStopping(monitor='val_acc',patience=20)\n",
    "\n",
    "#callbacks_list = [checkpoint, reduce_on_plateau]\n",
    "\n",
    "model = baseline_model()\n",
    "model.load_weights(file_path)\n",
    "#model.fit_generator(gen(train, dictTrain, filenames, batch_size=8), use_multiprocessing=False,\n",
    "#                    validation_data=gen(val, dictVal, filenames, batch_size=8), epochs=20, verbose=1,\n",
    "#                    workers=1, callbacks=callbacks_list, steps_per_epoch=64, validation_steps=32)"
   ]
  },
  {
   "cell_type": "code",
   "execution_count": null,
   "metadata": {},
   "outputs": [],
   "source": []
  },
  {
   "cell_type": "code",
   "execution_count": 106,
   "metadata": {
    "scrolled": true
   },
   "outputs": [
    {
     "name": "stdout",
     "output_type": "stream",
     "text": [
      "Iniciando predição\n",
      "400/400 [==============================] - 6429s 16s/step\n",
      "Predição realizada\n"
     ]
    }
   ],
   "source": [
    "yTest = [1] * 8 + [0] * 8\n",
    "num_test = 400\n",
    "yTest = yTest * num_test\n",
    "#print('Iniciando predição')\n",
    "#pred2 = model.predict_generator(gen(test, dictTest, filenames, batch_size=16), num_test, verbose=1)\n",
    "#print('Predição realizada')\n",
    "#with open('predFN.pkl', 'wb') as fid:\n",
    "#    cPickle.dump(pred2, fid) "
   ]
  },
  {
   "cell_type": "code",
   "execution_count": 107,
   "metadata": {},
   "outputs": [],
   "source": [
    "fpr, tpr, thres = roc_curve(yTest, pred2)"
   ]
  },
  {
   "cell_type": "code",
   "execution_count": 108,
   "metadata": {},
   "outputs": [
    {
     "data": {
      "text/plain": [
       "Text(0, 0.5, 'True Positive Rate')"
      ]
     },
     "execution_count": 108,
     "metadata": {},
     "output_type": "execute_result"
    },
    {
     "data": {
      "image/png": "[encoded data removed]",
      "text/plain": [
       "<Figure size 432x288 with 1 Axes>"
      ]
     },
     "metadata": {
      "needs_background": "light"
     },
     "output_type": "display_data"
    }
   ],
   "source": [
    "plt.plot(fpr, tpr, marker='.')\n",
    "plt.xlabel('False Positive Rate')\n",
    "plt.ylabel('True Positive Rate')\n",
    "#O treinamento apenas com faces neutras não apresentou bons resultados"
   ]
  },
  {
   "cell_type": "code",
   "execution_count": 100,
   "metadata": {},
   "outputs": [],
   "source": [
    "#utilizando o modelo treinado com  todas as faces\n",
    "file_path = \"vgg_face.h5\"\n",
    "model.load_weights(file_path)"
   ]
  },
  {
   "cell_type": "code",
   "execution_count": 27,
   "metadata": {},
   "outputs": [],
   "source": [
    "yTest = [1] * 8 + [0] * 8\n",
    "num_test = 200\n",
    "yTest = yTest * num_test\n",
    "#print('Iniciando predição')\n",
    "#pred2 = model.predict_generator(gen(test, dictTest, filenames, batch_size=16), num_test, verbose=1)\n",
    "#print('Predição realizada')\n",
    "#with open('predFN2.pkl', 'wb') as fid:\n",
    "#    cPickle.dump(pred2, fid) \n",
    "with open('predFN2.pkl', 'rb') as fid:\n",
    "    pred2 = cPickle.load(fid)"
   ]
  },
  {
   "cell_type": "code",
   "execution_count": 28,
   "metadata": {},
   "outputs": [],
   "source": [
    "with open('actualFN2.pkl', 'wb') as fid:\n",
    "    cPickle.dump(yTest, fid) "
   ]
  },
  {
   "cell_type": "code",
   "execution_count": 29,
   "metadata": {},
   "outputs": [],
   "source": [
    "fpr, tpr, thres = roc_curve(yTest, pred2)"
   ]
  },
  {
   "cell_type": "code",
   "execution_count": 30,
   "metadata": {},
   "outputs": [
    {
     "data": {
      "text/plain": [
       "Text(0, 0.5, 'True Positive Rate')"
      ]
     },
     "execution_count": 30,
     "metadata": {},
     "output_type": "execute_result"
    },
    {
     "data": {
      "image/png": "[encoded data removed]",
      "text/plain": [
       "<Figure size 432x288 with 1 Axes>"
      ]
     },
     "metadata": {
      "needs_background": "light"
     },
     "output_type": "display_data"
    }
   ],
   "source": [
    "plt.plot(fpr, tpr, marker='.')\n",
    "plt.xlabel('False Positive Rate')\n",
    "plt.ylabel('True Positive Rate')\n",
    "#Utilizando o modelo treinado com todas as faces os resultados são melhores"
   ]
  },
  {
   "cell_type": "markdown",
   "metadata": {},
   "source": [
    "<h1>Região ocular esquerda</h1>"
   ]
  },
  {
   "cell_type": "code",
   "execution_count": null,
   "metadata": {},
   "outputs": [],
   "source": []
  },
  {
   "cell_type": "code",
   "execution_count": 111,
   "metadata": {
    "scrolled": true
   },
   "outputs": [
    {
     "data": {
      "text/plain": [
       "136"
      ]
     },
     "execution_count": 111,
     "metadata": {},
     "output_type": "execute_result"
    }
   ],
   "source": [
    "combinacoes = []\n",
    "for x in range((qtdeHomens + qtdeMulheres)*qtdePoses*qtdeSessoes):\n",
    "    if mesmaPessoa(x, x-qtdePoses):\n",
    "        continue\n",
    "    if x % qtdePoses == 0:\n",
    "        combinacoes.append(x)\n",
    "len(combinacoes)"
   ]
  },
  {
   "cell_type": "code",
   "execution_count": 112,
   "metadata": {},
   "outputs": [],
   "source": [
    "shuffle(combinacoes)"
   ]
  },
  {
   "cell_type": "code",
   "execution_count": 113,
   "metadata": {},
   "outputs": [],
   "source": [
    "porcTrain = 0.5\n",
    "porcVal = 0.2\n",
    "porcTest = 0.3"
   ]
  },
  {
   "cell_type": "code",
   "execution_count": 115,
   "metadata": {},
   "outputs": [],
   "source": [
    "pTrain = combinacoes[:int(porcTrain*len(combinacoes))]\n",
    "pVal = combinacoes[int(porcTrain*len(combinacoes)):int(porcTrain*len(combinacoes) + porcVal*len(combinacoes))]\n",
    "pTest = combinacoes[int(porcTrain*len(combinacoes) + porcVal*len(combinacoes)):]\n",
    "\n",
    "train = []\n",
    "for i in range(len(pTrain)):\n",
    "    for ses in range(qtdeSessoes):\n",
    "        for pos in {1, 2, 3, 4, 5, 6, 10, 11, 12}:\n",
    "            train.append((pTrain[i],pTrain[i] + qtdePoses*ses + pos))\n",
    "\n",
    "val = []\n",
    "for i in range(len(pVal)):\n",
    "    for ses in range(qtdeSessoes):\n",
    "        for pos in {1, 2, 3, 4, 5, 6, 10, 11, 12}:\n",
    "            val.append((pVal[i],pVal[i] + qtdePoses*ses + pos))\n",
    "            \n",
    "test = []\n",
    "for i in range(len(pTest)):\n",
    "    for ses in range(qtdeSessoes):\n",
    "        for pos in {1, 2, 3, 4, 5, 6, 10, 11, 12}:\n",
    "            test.append((pTest[i],pTest[i] + qtdePoses*ses + pos))\n",
    "\n",
    "with open('trainEye.pkl', 'wb') as fid:\n",
    "    cPickle.dump(train, fid) \n",
    "with open('testEye.pkl', 'wb') as fid:\n",
    "    cPickle.dump(test, fid) \n",
    "with open('valEye.pkl', 'wb') as fid:\n",
    "    cPickle.dump(val, fid) \n"
   ]
  },
  {
   "cell_type": "code",
   "execution_count": 39,
   "metadata": {},
   "outputs": [],
   "source": [
    "with open('trainEye.pkl', 'rb') as fid:\n",
    "    train = cPickle.load(fid)\n",
    "with open('valEye.pkl', 'rb') as fid:\n",
    "    val = cPickle.load(fid)\n",
    "with open('testEye.pkl', 'rb') as fid:\n",
    "    test = cPickle.load(fid)"
   ]
  },
  {
   "cell_type": "code",
   "execution_count": 136,
   "metadata": {},
   "outputs": [],
   "source": [
    "for tup in train:\n",
    "    if not mesmaPessoa(tup[0], tup[1]):\n",
    "        print('Problema!')"
   ]
  },
  {
   "cell_type": "code",
   "execution_count": 137,
   "metadata": {},
   "outputs": [
    {
     "data": {
      "text/plain": [
       "1224"
      ]
     },
     "execution_count": 137,
     "metadata": {},
     "output_type": "execute_result"
    }
   ],
   "source": [
    "len(train)"
   ]
  },
  {
   "cell_type": "code",
   "execution_count": 40,
   "metadata": {},
   "outputs": [],
   "source": [
    "dictTrain = defaultdict(list)\n",
    "for tup in train:\n",
    "    dictTrain[tup[0]] = True\n",
    "    dictTrain[tup[1]] = True\n",
    "    \n",
    "dictVal = defaultdict(list)\n",
    "for tup in val:\n",
    "    dictVal[tup[0]] = True\n",
    "    dictVal[tup[1]] = True\n",
    "\n",
    "dictTest = defaultdict(list)\n",
    "for tup in test:\n",
    "    dictTest[tup[0]] = True\n",
    "    dictTest[tup[1]] = True"
   ]
  },
  {
   "cell_type": "code",
   "execution_count": null,
   "metadata": {},
   "outputs": [],
   "source": []
  },
  {
   "cell_type": "code",
   "execution_count": 42,
   "metadata": {},
   "outputs": [
    {
     "name": "stdout",
     "output_type": "stream",
     "text": [
      "Model: \"functional_17\"\n",
      "__________________________________________________________________________________________________\n",
      "Layer (type)                    Output Shape         Param #     Connected to                     \n",
      "==================================================================================================\n",
      "input_13 (InputLayer)           [(None, 224, 224, 3) 0                                            \n",
      "__________________________________________________________________________________________________\n",
      "input_14 (InputLayer)           [(None, 224, 224, 3) 0                                            \n",
      "__________________________________________________________________________________________________\n",
      "vggface_resnet50 (Functional)   (None, None, None, 2 23561152    input_13[0][0]                   \n",
      "                                                                 input_14[0][0]                   \n",
      "__________________________________________________________________________________________________\n",
      "concatenate_2 (Concatenate)     (None, 1, 1, 4096)   0           vggface_resnet50[0][0]           \n",
      "                                                                 vggface_resnet50[1][0]           \n",
      "__________________________________________________________________________________________________\n",
      "flatten_6 (Flatten)             (None, 4096)         0           concatenate_2[0][0]              \n",
      "__________________________________________________________________________________________________\n",
      "dense_18 (Dense)                (None, 512)          2097664     flatten_6[0][0]                  \n",
      "__________________________________________________________________________________________________\n",
      "dropout_2 (Dropout)             (None, 512)          0           dense_18[0][0]                   \n",
      "__________________________________________________________________________________________________\n",
      "dense_19 (Dense)                (None, 1)            513         dropout_2[0][0]                  \n",
      "==================================================================================================\n",
      "Total params: 25,659,329\n",
      "Trainable params: 2,098,177\n",
      "Non-trainable params: 23,561,152\n",
      "__________________________________________________________________________________________________\n"
     ]
    }
   ],
   "source": [
    "file_path = \"vgg_face.h5\" #testando com o modelo treinado com todas as faces\n",
    "\n",
    "#checkpoint = ModelCheckpoint(file_path, monitor='val_acc', verbose=1, save_best_only=True, mode='max')\n",
    "\n",
    "#reduce_on_plateau = ReduceLROnPlateau(monitor=\"val_acc\", mode=\"max\", factor=0.1, patience=20, verbose=1)\n",
    "\n",
    "#es = EarlyStopping(monitor='val_acc',patience=20)\n",
    "\n",
    "#callbacks_list = [checkpoint, reduce_on_plateau]\n",
    "\n",
    "model = baseline_model()\n",
    "model.load_weights(file_path)\n",
    "#model.fit_generator(genEye(train, dictTrain, filenames, batch_size=8), use_multiprocessing=False,\n",
    "                  #  validation_data=genEye(val, dictVal, filenames, batch_size=8), epochs=20, verbose=1,\n",
    "                   # workers=1, callbacks=callbacks_list, steps_per_epoch=64, validation_steps=16)"
   ]
  },
  {
   "cell_type": "code",
   "execution_count": null,
   "metadata": {},
   "outputs": [],
   "source": []
  },
  {
   "cell_type": "code",
   "execution_count": 43,
   "metadata": {
    "scrolled": true
   },
   "outputs": [
    {
     "name": "stdout",
     "output_type": "stream",
     "text": [
      "Iniciando predição\n",
      "WARNING:tensorflow:From <ipython-input-43-9ad5a7e6f748>:5: Model.predict_generator (from tensorflow.python.keras.engine.training) is deprecated and will be removed in a future version.\n",
      "Instructions for updating:\n",
      "Please use Model.predict, which supports generators.\n",
      "64/64 [==============================] - 928s 14s/step\n",
      "Predição realizada\n"
     ]
    }
   ],
   "source": [
    "yTest = [1] * 8 + [0] * 8\n",
    "num_test = 64\n",
    "yTest = yTest * num_test\n",
    "print('Iniciando predição')\n",
    "pred2 = model.predict_generator(genEye(test, dictTest, filenames, batch_size=16), num_test, verbose=1)\n",
    "print('Predição realizada')\n",
    "with open('predEye.pkl', 'wb') as fid:\n",
    "    cPickle.dump(pred2, fid) "
   ]
  },
  {
   "cell_type": "code",
   "execution_count": 44,
   "metadata": {},
   "outputs": [],
   "source": [
    "fpr, tpr, thres = roc_curve(yTest, pred2)"
   ]
  },
  {
   "cell_type": "code",
   "execution_count": 45,
   "metadata": {},
   "outputs": [
    {
     "data": {
      "text/plain": [
       "Text(0, 0.5, 'True Positive Rate')"
      ]
     },
     "execution_count": 45,
     "metadata": {},
     "output_type": "execute_result"
    },
    {
     "data": {
      "image/png": "[encoded data removed]",
      "text/plain": [
       "<Figure size 432x288 with 1 Axes>"
      ]
     },
     "metadata": {
      "needs_background": "light"
     },
     "output_type": "display_data"
    }
   ],
   "source": [
    "plt.plot(fpr, tpr, marker='.')\n",
    "plt.xlabel('False Positive Rate')\n",
    "plt.ylabel('True Positive Rate')"
   ]
  },
  {
   "cell_type": "code",
   "execution_count": null,
   "metadata": {},
   "outputs": [],
   "source": []
  }
 ],
 "metadata": {
  "kernelspec": {
   "display_name": "Python 3",
   "language": "python",
   "name": "python3"
  },
  "language_info": {
   "codemirror_mode": {
    "name": "ipython",
    "version": 3
   },
   "file_extension": ".py",
   "mimetype": "text/x-python",
   "name": "python",
   "nbconvert_exporter": "python",
   "pygments_lexer": "ipython3",
   "version": "3.8.3"
  }
 },
 "nbformat": 4,
 "nbformat_minor": 4
}
