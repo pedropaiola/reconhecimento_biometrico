{
 "cells": [
  {
   "cell_type": "markdown",
   "metadata": {},
   "source": [
    "<h1>Importando bibliotecas</h1>"
   ]
  },
  {
   "cell_type": "code",
   "execution_count": 1,
   "metadata": {},
   "outputs": [],
   "source": [
    "import numpy as np\n",
    "from matplotlib import pyplot as plt\n",
    "from PIL import Image, ImageDraw\n",
    "from numpy import asarray\n",
    "from scipy.spatial.distance import cosine\n",
    "from mtcnn.mtcnn import MTCNN\n",
    "from keras_vggface.vggface import VGGFace\n",
    "from keras_vggface.utils import preprocess_input\n",
    "from keras_vggface.utils import decode_predictions\n",
    "from IPython.display import clear_output\n",
    "import tensorflow as tf\n",
    "import os\n",
    "import _pickle as cPickle\n",
    "from sklearn.metrics import roc_curve\n",
    "from sklearn.metrics import roc_auc_score\n",
    "from sklearn.metrics import f1_score\n",
    "tf.get_logger().setLevel('ERROR')\n",
    "os.environ['CUDA_VISIBLE_DEVICES'] = '-1' #Por algum motivo o CUDA parou de funcionar pra mim ;-;\n"
   ]
  },
  {
   "cell_type": "markdown",
   "metadata": {},
   "source": [
    "<h1>Parâmetros e funções auxiliares</h1>"
   ]
  },
  {
   "cell_type": "code",
   "execution_count": 2,
   "metadata": {},
   "outputs": [],
   "source": [
    "dataset = 'Arface_mtcnn_v2/'\n",
    "faces = dataset + 'face/'\n",
    "qtdeHomens = 76 #76\n",
    "qtdeMulheres = 60 #60\n",
    "qtdePoses = 13 #13\n",
    "qtdeSessoes = 2"
   ]
  },
  {
   "cell_type": "code",
   "execution_count": 3,
   "metadata": {},
   "outputs": [],
   "source": [
    "def corrigirLimite(x, limS):\n",
    "    if x < 0:\n",
    "        return 0\n",
    "    if x > limS:\n",
    "        return limS\n",
    "    return x\n",
    "\n",
    "detector = MTCNN()\n",
    "\n",
    "#Extraindo face usando MTCNN\n",
    "def extract_face(filename, required_size=(224, 224)):\n",
    "    try:\n",
    "        pixels = plt.imread(filename)\n",
    "        h = pixels.shape[0]\n",
    "        w = pixels.shape[1]\n",
    "        results = detector.detect_faces(pixels)\n",
    "        x1, y1, width, height = results[0]['box']\n",
    "        x2, y2 = x1 + width, y1 + height\n",
    "\n",
    "        x1 = corrigirLimite(x1, w)\n",
    "        x2 = corrigirLimite(x2, w)\n",
    "        y1 = corrigirLimite(y1, h)\n",
    "        y2 = corrigirLimite(y2, h)\n",
    "\n",
    "        face = pixels[y1:y2, x1:x2]\n",
    "        image = Image.fromarray(face)\n",
    "        image = image.resize(required_size)\n",
    "        face_array = asarray(image)\n",
    "        return face_array\n",
    "    except:\n",
    "         return asarray(Image.new('RGB', (224, 224)))\n",
    "\n",
    "#Extraindo região ocular usando MTCNN\n",
    "def extract_eye(filename, s = 'left', required_size=(224, 224)):\n",
    "    try:\n",
    "        pixels = plt.imread(filename)\n",
    "        h = pixels.shape[0]\n",
    "        w = pixels.shape[1]\n",
    "        detector = MTCNN()\n",
    "        results = detector.detect_faces(pixels)\n",
    "        x, y, width, height = results[0]['box']\n",
    "\n",
    "        xMouthR, yMouthR = results[0]['keypoints']['mouth_right']\n",
    "        xMouthL, yMouthL = results[0]['keypoints']['mouth_left']\n",
    "        yMouthM = (yMouthR + yMouthL)//2\n",
    "        xMouthM = (xMouthR + xMouthL)//2\n",
    "        xEyeR, yEyeR = results[0]['keypoints']['right_eye']\n",
    "        xEyeL, yEyeL = results[0]['keypoints']['left_eye']\n",
    "        xEyeM = (xEyeR + xEyeL)//2\n",
    "        yEyeM = (yEyeR + yEyeL)//2\n",
    "        hEye = np.abs(yMouthM - yEyeM)//3\n",
    "\n",
    "        x1 = x2 = y1 = y2 = 0\n",
    "        if s == 'left':\n",
    "            y1 = yEyeL - hEye\n",
    "            y2 = yEyeL + hEye\n",
    "            x1 = x\n",
    "            x2 = xEyeM\n",
    "        else:\n",
    "            y1 = yEyeR - hEye\n",
    "            y2 = yEyeR + hEye\n",
    "            x1 = xEyeM\n",
    "            x2 = x + width\n",
    "\n",
    "        print(x1, x2, y1, y2)\n",
    "\n",
    "        x1 = corrigirLimite(x1, w)\n",
    "        x2 = corrigirLimite(x2, w)\n",
    "        y1 = corrigirLimite(y1, h)\n",
    "        y2 = corrigirLimite(y2, h)\n",
    "\n",
    "        print(x1, x2, y1, y2)\n",
    "\n",
    "        eye = pixels[y1:y2, x1:x2]\n",
    "        image = Image.fromarray(eye)\n",
    "        image = image.resize(required_size)\n",
    "        eye_array = asarray(image)\n",
    "        return eye_array\n",
    "    except:\n",
    "         return asarray(Image.new('RGB', (224, 224)))"
   ]
  },
  {
   "cell_type": "code",
   "execution_count": 4,
   "metadata": {},
   "outputs": [],
   "source": [
    "def getPath(genero, idPessoa, pose = 1, sessao = 0):\n",
    "    pref = 'Cm'\n",
    "    if genero == 'F':\n",
    "        pref = 'Cw'\n",
    "    pessoa = '{:03d}'.format(idPessoa)\n",
    "    pose += sessao*qtdePoses\n",
    "    filepath = faces + pref + '-' + pessoa + '-' + str(pose) + '_face.bmp'\n",
    "    return filepath"
   ]
  },
  {
   "cell_type": "code",
   "execution_count": 5,
   "metadata": {},
   "outputs": [],
   "source": [
    "def abrirFace(genero, idPessoa, pose = 1, sessao = 0):\n",
    "    filepath = getPath(genero, idPessoa, pose, sessao)\n",
    "    return extract_face(filepath)"
   ]
  },
  {
   "cell_type": "code",
   "execution_count": 6,
   "metadata": {},
   "outputs": [],
   "source": [
    "def abrirOlho(genero, idPessoa, lado = 'left', pose = 1, sessao = 0):\n",
    "    filepath = getPath(genero, idPessoa, pose, sessao)\n",
    "    return extract_eye(filepath, lado)"
   ]
  },
  {
   "cell_type": "markdown",
   "metadata": {},
   "source": [
    "<h3>Preparando base de dados</h3>"
   ]
  },
  {
   "cell_type": "code",
   "execution_count": 7,
   "metadata": {},
   "outputs": [],
   "source": [
    "pessoas = []\n",
    "filenames = []\n",
    "qtdeArqs = 0\n",
    "\n",
    "idP = 0\n",
    "for h in range(qtdeHomens):\n",
    "    pessoas.append([])\n",
    "    for s in range(qtdeSessoes):\n",
    "        for p in range(qtdePoses):\n",
    "            filenames.append(getPath('M', h+1, p+1, s))\n",
    "            pessoas[idP].append(qtdeArqs)\n",
    "            qtdeArqs += 1\n",
    "    idP += 1\n",
    "\n",
    "for m in range(qtdeMulheres):\n",
    "    pessoas.append([])\n",
    "    for s in range(qtdeSessoes):\n",
    "        for p in range(qtdePoses):\n",
    "            filenames.append(getPath('F', m+1, p+1, s))\n",
    "            pessoas[idP].append(qtdeArqs)\n",
    "            qtdeArqs += 1\n",
    "    idP += 1"
   ]
  },
  {
   "cell_type": "code",
   "execution_count": null,
   "metadata": {
    "scrolled": true
   },
   "outputs": [],
   "source": []
  },
  {
   "cell_type": "markdown",
   "metadata": {},
   "source": [
    "<h1>Extração de descritores e funções de autenticação</h1>"
   ]
  },
  {
   "cell_type": "code",
   "execution_count": 8,
   "metadata": {},
   "outputs": [],
   "source": [
    "#Extração de descritores das faces usando VGGFace\n",
    "def get_embeddings_faces(filenames):\n",
    "    print('Iniciando extração')\n",
    "    facesE = []\n",
    "    x = 0\n",
    "    total = (qtdeHomens + qtdeMulheres)*qtdeSessoes*qtdePoses\n",
    "    print('0/', total, sep='', flush=True)\n",
    "    for f in filenames:\n",
    "        facesE.append(extract_face(f))\n",
    "        clear_output(wait=True)\n",
    "        x += 1\n",
    "        print(x, '/', total, sep='', flush=True)\n",
    "    print('Faces extraidas')\n",
    "    samples = asarray(facesE, 'float32')\n",
    "    samples = preprocess_input(samples, version=2)\n",
    "    model = VGGFace(model='resnet50', include_top=False, input_shape=(224, 224, 3), pooling='avg')\n",
    "    print('Modelo instanciado')\n",
    "    yhat = model.predict(samples)\n",
    "    print('Descritores VGGFace extraídos')\n",
    "    return yhat\n",
    "\n",
    "#Extração de descritores das regiões oculares usando VGGFace\n",
    "def get_embeddings_eyes(filenames, lado):\n",
    "    print('Iniciando extração')\n",
    "    olhosE = []\n",
    "    x = 0\n",
    "    total = (qtdeHomens + qtdeMulheres)*qtdeSessoes*qtdePoses\n",
    "    print('0/', total, sep='', flush=True)\n",
    "    for f in filenames:\n",
    "        olhosE.append(extract_eye(f, lado))\n",
    "        clear_output(wait=True)\n",
    "        x += 1\n",
    "        print(x, '/', total, sep='', flush=True)\n",
    "    print('Regiões oculares extraidas')\n",
    "    samples = asarray(olhosE, 'float32')\n",
    "    samples = preprocess_input(samples, version=2)\n",
    "    model = VGGFace(model='resnet50', include_top=False, input_shape=(224, 224, 3), pooling='avg')\n",
    "    print('Modelo instanciado')\n",
    "    yhat = model.predict(samples)\n",
    "    print('Descritores VGGFace extraídos')\n",
    "    return yhat\n",
    "\n",
    "\n",
    "#Determina se o descritor candidato corresponde ao conhecido, utilizando cosine distance, considerando um limiar thresh\n",
    "def is_match(known_embedding, candidate_embedding, thresh=0.5):\n",
    "    score = cosine(known_embedding, candidate_embedding)\n",
    "    if score <= thresh:\n",
    "        #print('>face is a Match (%.3f <= %.3f)' % (score, thresh))\n",
    "        return True\n",
    "    else:\n",
    "        #print('>face is NOT a Match (%.3f > %.3f)' % (score, thresh))\n",
    "        return False"
   ]
  },
  {
   "cell_type": "markdown",
   "metadata": {},
   "source": [
    "<h1>Autenticação</h1>"
   ]
  },
  {
   "cell_type": "code",
   "execution_count": 56,
   "metadata": {},
   "outputs": [],
   "source": [
    "def diferencaAmostras(descritores, posesAceitas):\n",
    "    yActual = []\n",
    "    yProb = []\n",
    "    for p in range(qtdeHomens + qtdeMulheres):\n",
    "        amostraProva = descritores[pessoas[p][0]] #pose normal\n",
    "        #amostras verdadeiras/da mesma pessoas\n",
    "        for s in range(qtdeSessoes):\n",
    "            for pose in posesAceitas:\n",
    "                if (pose == 0) and (s == 0):  #não vamos comparar a imagem com si mesma\n",
    "                    continue;\n",
    "                yActual.append(1)\n",
    "                amostraCandidata = descritores[pessoas[p][pose + s*qtdePoses]]\n",
    "                yProb.append(float(1-cosine(amostraProva, amostraCandidata)))\n",
    "        #amostras falsas/pessoas diferentes\n",
    "        for p2 in range(p+1, qtdeHomens + qtdeMulheres):\n",
    "            for s in range(qtdeSessoes):\n",
    "                for pose in posesAceitas:\n",
    "                    yActual.append(0)\n",
    "                    amostraCandidata = descritores[pessoas[p2][pose + s*qtdePoses]]\n",
    "                    yProb.append(float(1-cosine(amostraProva, amostraCandidata)))\n",
    "    return (yActual, yProb)"
   ]
  },
  {
   "cell_type": "markdown",
   "metadata": {},
   "source": [
    "<h2>Faces neutras - VGGFace</h2>"
   ]
  },
  {
   "cell_type": "code",
   "execution_count": 10,
   "metadata": {},
   "outputs": [],
   "source": [
    "#descritoresVGG = get_embeddings_faces(filenames) \n",
    "with open('descFacesVGG.pkl', 'rb') as fid: #Lendo descritores já extraídos\n",
    "    descritoresVGG = cPickle.load(fid)"
   ]
  },
  {
   "cell_type": "code",
   "execution_count": 11,
   "metadata": {},
   "outputs": [
    {
     "data": {
      "text/plain": [
       "array([[2.7485640e+00, 0.0000000e+00, 0.0000000e+00, ..., 7.7324944e+00,\n",
       "        1.7534347e+00, 2.5124109e-01],\n",
       "       [9.4908160e-01, 0.0000000e+00, 0.0000000e+00, ..., 4.2591801e+00,\n",
       "        7.1327871e-01, 3.7103159e+00],\n",
       "       [1.3749884e+00, 9.3822807e-01, 0.0000000e+00, ..., 6.8258867e+00,\n",
       "        1.6768528e+00, 4.4632229e-01],\n",
       "       ...,\n",
       "       [3.7275679e-02, 0.0000000e+00, 0.0000000e+00, ..., 4.3437034e-01,\n",
       "        2.1291995e+00, 4.9423604e+00],\n",
       "       [0.0000000e+00, 3.4130691e-03, 0.0000000e+00, ..., 1.0038435e+00,\n",
       "        5.1227474e-01, 4.1406283e+00],\n",
       "       [1.5483378e-01, 1.0486158e-02, 0.0000000e+00, ..., 1.9929326e-01,\n",
       "        1.1342582e+00, 5.4405541e+00]], dtype=float32)"
      ]
     },
     "execution_count": 11,
     "metadata": {},
     "output_type": "execute_result"
    }
   ],
   "source": [
    "descritoresVGG"
   ]
  },
  {
   "cell_type": "code",
   "execution_count": 12,
   "metadata": {},
   "outputs": [],
   "source": [
    "#with open('descFacesVGG.pkl', 'wb') as fid:\n",
    "#    cPickle.dump(descritoresVGG, fid) "
   ]
  },
  {
   "cell_type": "code",
   "execution_count": 12,
   "metadata": {},
   "outputs": [],
   "source": [
    "yActual, yPred = diferencaAmostras(descritoresVGG, {0})"
   ]
  },
  {
   "cell_type": "code",
   "execution_count": 13,
   "metadata": {},
   "outputs": [],
   "source": [
    "with open('yFNcos.pkl', 'wb') as fid:\n",
    "    cPickle.dump(yActual, fid) \n",
    "with open('yFNcosPred.pkl', 'wb') as fid:\n",
    "    cPickle.dump(yPred, fid) "
   ]
  },
  {
   "cell_type": "code",
   "execution_count": 14,
   "metadata": {},
   "outputs": [],
   "source": [
    "fpr, tpr, thres = roc_curve(yActual, yPred)"
   ]
  },
  {
   "cell_type": "code",
   "execution_count": 15,
   "metadata": {},
   "outputs": [
    {
     "data": {
      "text/plain": [
       "Text(0, 0.5, 'True Positive Rate')"
      ]
     },
     "execution_count": 15,
     "metadata": {},
     "output_type": "execute_result"
    },
    {
     "data": {
      "image/png": "[encoded data removed]",
      "text/plain": [
       "<Figure size 432x288 with 1 Axes>"
      ]
     },
     "metadata": {
      "needs_background": "light"
     },
     "output_type": "display_data"
    }
   ],
   "source": [
    "plt.plot(fpr, tpr, marker='.')\n",
    "plt.xlabel('False Positive Rate')\n",
    "plt.ylabel('True Positive Rate')"
   ]
  },
  {
   "cell_type": "code",
   "execution_count": 16,
   "metadata": {
    "scrolled": true
   },
   "outputs": [
    {
     "name": "stdout",
     "output_type": "stream",
     "text": [
      "F1-score: 0.8140350877192983\n",
      "Melhor limiar: 0.7555031776428223\n"
     ]
    }
   ],
   "source": [
    "bestF1 = 0\n",
    "bestThres = 0\n",
    "for t in thres:\n",
    "    yPredT = [1 if x >= t else 0 for x in yPred]\n",
    "    f1s = f1_score(yActual, yPredT)\n",
    "    if f1s > bestF1:\n",
    "        bestF1 = f1s\n",
    "        bestThres = t\n",
    "print('F1-score:', bestF1)\n",
    "print('Melhor limiar:', bestThres)"
   ]
  },
  {
   "cell_type": "code",
   "execution_count": 17,
   "metadata": {},
   "outputs": [
    {
     "data": {
      "text/plain": [
       "0.8591106785851595"
      ]
     },
     "execution_count": 17,
     "metadata": {},
     "output_type": "execute_result"
    }
   ],
   "source": [
    "roc_auc_score(yActual, yPred)"
   ]
  },
  {
   "cell_type": "markdown",
   "metadata": {},
   "source": [
    "<h2>Todas as faces - VGGFace</h2>"
   ]
  },
  {
   "cell_type": "code",
   "execution_count": 16,
   "metadata": {},
   "outputs": [],
   "source": [
    "yActual, yPred = diferencaAmostras(descritoresVGG, {x for x in range(qtdePoses)})"
   ]
  },
  {
   "cell_type": "code",
   "execution_count": 17,
   "metadata": {},
   "outputs": [],
   "source": [
    "with open('yTFcos.pkl', 'wb') as fid:\n",
    "    cPickle.dump(yActual, fid) \n",
    "with open('yTFcosPred.pkl', 'wb') as fid:\n",
    "    cPickle.dump(yPred, fid) "
   ]
  },
  {
   "cell_type": "code",
   "execution_count": 18,
   "metadata": {},
   "outputs": [],
   "source": [
    "fpr, tpr, thres = roc_curve(yActual, yPred)"
   ]
  },
  {
   "cell_type": "code",
   "execution_count": 19,
   "metadata": {},
   "outputs": [
    {
     "data": {
      "text/plain": [
       "Text(0, 0.5, 'True Positive Rate')"
      ]
     },
     "execution_count": 19,
     "metadata": {},
     "output_type": "execute_result"
    },
    {
     "data": {
      "image/png": "[encoded data removed]",
      "text/plain": [
       "<Figure size 432x288 with 1 Axes>"
      ]
     },
     "metadata": {
      "needs_background": "light"
     },
     "output_type": "display_data"
    }
   ],
   "source": [
    "plt.plot(fpr, tpr, marker='.')\n",
    "plt.xlabel('False Positive Rate')\n",
    "plt.ylabel('True Positive Rate')"
   ]
  },
  {
   "cell_type": "code",
   "execution_count": 22,
   "metadata": {},
   "outputs": [
    {
     "name": "stdout",
     "output_type": "stream",
     "text": [
      "100/7051\n",
      "F1-score: 0.6324165852296524\n",
      "Melhor limiar: 0.61\n"
     ]
    }
   ],
   "source": [
    "bestF1 = 0\n",
    "bestThres = 0\n",
    "x = 0\n",
    "for t in np.arange(0, 1, 0.01):\n",
    "    clear_output(wait=True)\n",
    "    x += 1\n",
    "    print(x, '/', len(np.arange(0, 1, 0.01)), sep='', flush=True)\n",
    "    yPredT = [1 if x >= t else 0 for x in yPred]\n",
    "    f1s = f1_score(yActual, yPredT)\n",
    "    if f1s > bestF1:\n",
    "        bestF1 = f1s\n",
    "        bestThres = t\n",
    "print('F1-score:', bestF1)\n",
    "print('Melhor limiar:', bestThres)"
   ]
  },
  {
   "cell_type": "code",
   "execution_count": 23,
   "metadata": {},
   "outputs": [
    {
     "data": {
      "text/plain": [
       "0.8275421490994588"
      ]
     },
     "execution_count": 23,
     "metadata": {},
     "output_type": "execute_result"
    }
   ],
   "source": [
    "roc_auc_score(yActual, yPred)"
   ]
  },
  {
   "cell_type": "code",
   "execution_count": null,
   "metadata": {},
   "outputs": [],
   "source": []
  },
  {
   "cell_type": "markdown",
   "metadata": {},
   "source": [
    "<h2>Regiões oculares - esquerdo - faces neutras - VGGFace</h2>"
   ]
  },
  {
   "cell_type": "code",
   "execution_count": 61,
   "metadata": {},
   "outputs": [],
   "source": [
    "#descritoresVGG = get_embeddings_eyes(filenames, 'left')\n",
    "with open('descOlhosEsqVGG.pkl', 'rb') as fid:\n",
    "    descritoresVGG = cPickle.load(fid)"
   ]
  },
  {
   "cell_type": "code",
   "execution_count": 11,
   "metadata": {},
   "outputs": [
    {
     "data": {
      "text/plain": [
       "array([[0.0000000e+00, 3.7595441e+00, 0.0000000e+00, ..., 9.2224684e-04,\n",
       "        8.1624009e-02, 0.0000000e+00],\n",
       "       [0.0000000e+00, 5.6846678e-01, 0.0000000e+00, ..., 0.0000000e+00,\n",
       "        0.0000000e+00, 0.0000000e+00],\n",
       "       [0.0000000e+00, 0.0000000e+00, 0.0000000e+00, ..., 0.0000000e+00,\n",
       "        0.0000000e+00, 0.0000000e+00],\n",
       "       ...,\n",
       "       [0.0000000e+00, 2.1014856e-01, 0.0000000e+00, ..., 0.0000000e+00,\n",
       "        0.0000000e+00, 0.0000000e+00],\n",
       "       [0.0000000e+00, 9.1508299e-01, 0.0000000e+00, ..., 0.0000000e+00,\n",
       "        0.0000000e+00, 0.0000000e+00],\n",
       "       [0.0000000e+00, 1.2742023e-01, 0.0000000e+00, ..., 0.0000000e+00,\n",
       "        1.9120066e+00, 0.0000000e+00]], dtype=float32)"
      ]
     },
     "execution_count": 11,
     "metadata": {},
     "output_type": "execute_result"
    }
   ],
   "source": [
    "descritoresVGG"
   ]
  },
  {
   "cell_type": "code",
   "execution_count": 12,
   "metadata": {},
   "outputs": [],
   "source": [
    "#with open('descOlhosEsqVGG.pkl', 'wb') as fid:\n",
    "#    cPickle.dump(descritoresVGG, fid) "
   ]
  },
  {
   "cell_type": "code",
   "execution_count": 13,
   "metadata": {},
   "outputs": [],
   "source": [
    "yActual, yPred = diferencaAmostras(descritoresVGG, {0})"
   ]
  },
  {
   "cell_type": "code",
   "execution_count": 14,
   "metadata": {},
   "outputs": [],
   "source": [
    "fpr, tpr, thres = roc_curve(yActual, yPred)"
   ]
  },
  {
   "cell_type": "code",
   "execution_count": 15,
   "metadata": {},
   "outputs": [
    {
     "data": {
      "text/plain": [
       "Text(0, 0.5, 'True Positive Rate')"
      ]
     },
     "execution_count": 15,
     "metadata": {},
     "output_type": "execute_result"
    },
    {
     "data": {
      "image/png": "[encoded data removed]",
      "text/plain": [
       "<Figure size 432x288 with 1 Axes>"
      ]
     },
     "metadata": {
      "needs_background": "light"
     },
     "output_type": "display_data"
    }
   ],
   "source": [
    "plt.plot(fpr, tpr, marker='.')\n",
    "plt.xlabel('False Positive Rate')\n",
    "plt.ylabel('True Positive Rate')"
   ]
  },
  {
   "cell_type": "code",
   "execution_count": 16,
   "metadata": {
    "scrolled": true
   },
   "outputs": [
    {
     "name": "stdout",
     "output_type": "stream",
     "text": [
      "F1-score: 0.4055299539170507\n",
      "Melhor limiar: 0.8931424021720886\n"
     ]
    }
   ],
   "source": [
    "bestF1 = 0\n",
    "bestThres = 0\n",
    "for t in thres:\n",
    "    yPredT = [1 if x >= t else 0 for x in yPred]\n",
    "    f1s = f1_score(yActual, yPredT)\n",
    "    if f1s > bestF1:\n",
    "        bestF1 = f1s\n",
    "        bestThres = t\n",
    "print('F1-score:', bestF1)\n",
    "print('Melhor limiar:', bestThres)"
   ]
  },
  {
   "cell_type": "code",
   "execution_count": 17,
   "metadata": {},
   "outputs": [
    {
     "data": {
      "text/plain": [
       "0.8100438132769447"
      ]
     },
     "execution_count": 17,
     "metadata": {},
     "output_type": "execute_result"
    }
   ],
   "source": [
    "roc_auc_score(yActual, yPred)"
   ]
  },
  {
   "cell_type": "markdown",
   "metadata": {},
   "source": [
    "<h2>Regiões oculares - esquerda - sem oculos - VGGFace</h2>"
   ]
  },
  {
   "cell_type": "code",
   "execution_count": 62,
   "metadata": {},
   "outputs": [],
   "source": [
    "yActual, yPred = diferencaAmostras(descritoresVGG, posesAceitas={0, 1, 2, 3, 4, 5, 6, 10, 11, 12})"
   ]
  },
  {
   "cell_type": "code",
   "execution_count": 63,
   "metadata": {},
   "outputs": [],
   "source": [
    "with open('yOlhoEsq.pkl', 'wb') as fid:\n",
    "    cPickle.dump(yActual, fid) \n",
    "with open('yOlhoEsqPred.pkl', 'wb') as fid:\n",
    "    cPickle.dump(yPred, fid) "
   ]
  },
  {
   "cell_type": "code",
   "execution_count": 64,
   "metadata": {},
   "outputs": [],
   "source": [
    "fpr, tpr, thres = roc_curve(yActual, yPred)"
   ]
  },
  {
   "cell_type": "code",
   "execution_count": 65,
   "metadata": {},
   "outputs": [
    {
     "data": {
      "text/plain": [
       "Text(0, 0.5, 'True Positive Rate')"
      ]
     },
     "execution_count": 65,
     "metadata": {},
     "output_type": "execute_result"
    },
    {
     "data": {
      "image/png": "[encoded data removed]",
      "text/plain": [
       "<Figure size 432x288 with 1 Axes>"
      ]
     },
     "metadata": {
      "needs_background": "light"
     },
     "output_type": "display_data"
    }
   ],
   "source": [
    "plt.plot(fpr, tpr, marker='.')\n",
    "plt.xlabel('False Positive Rate')\n",
    "plt.ylabel('True Positive Rate')"
   ]
  },
  {
   "cell_type": "code",
   "execution_count": 21,
   "metadata": {
    "scrolled": true
   },
   "outputs": [
    {
     "name": "stdout",
     "output_type": "stream",
     "text": [
      "100/100\n",
      "F1-score: 0.26178635369007364\n",
      "Melhor limiar: 0.84\n"
     ]
    }
   ],
   "source": [
    "bestF1 = 0\n",
    "bestThres = 0\n",
    "x = 0\n",
    "for t in np.arange(0, 1, 0.01):\n",
    "    clear_output(wait=True)\n",
    "    x += 1\n",
    "    print(x, '/', len(np.arange(0, 1, 0.01)), sep='', flush=True)\n",
    "    yPredT = [1 if x >= t else 0 for x in yPred]\n",
    "    f1s = f1_score(yActual, yPredT)\n",
    "    if f1s > bestF1:\n",
    "        bestF1 = f1s\n",
    "        bestThres = t\n",
    "print('F1-score:', bestF1)\n",
    "print('Melhor limiar:', bestThres)"
   ]
  },
  {
   "cell_type": "code",
   "execution_count": 22,
   "metadata": {},
   "outputs": [
    {
     "data": {
      "text/plain": [
       "0.7139952877435805"
      ]
     },
     "execution_count": 22,
     "metadata": {},
     "output_type": "execute_result"
    }
   ],
   "source": [
    "roc_auc_score(yActual, yPred)"
   ]
  },
  {
   "cell_type": "code",
   "execution_count": null,
   "metadata": {},
   "outputs": [],
   "source": []
  },
  {
   "cell_type": "markdown",
   "metadata": {},
   "source": [
    "<h2>Regiões oculares - direita - faces neutras - VGGFace</h2>"
   ]
  },
  {
   "cell_type": "code",
   "execution_count": 23,
   "metadata": {},
   "outputs": [
    {
     "name": "stdout",
     "output_type": "stream",
     "text": [
      "3536/3536\n",
      "Regiões oculares extraidas\n",
      "Modelo instanciado\n",
      "Descritores VGGFace extraídos\n"
     ]
    }
   ],
   "source": [
    "descritoresVGG = get_embeddings_eyes(filenames, 'right')"
   ]
  },
  {
   "cell_type": "code",
   "execution_count": 24,
   "metadata": {},
   "outputs": [
    {
     "data": {
      "text/plain": [
       "array([[0.00000000e+00, 1.07518172e+00, 0.00000000e+00, ...,\n",
       "        0.00000000e+00, 1.29168129e+00, 0.00000000e+00],\n",
       "       [0.00000000e+00, 1.85861707e-01, 0.00000000e+00, ...,\n",
       "        0.00000000e+00, 2.86978600e-03, 0.00000000e+00],\n",
       "       [0.00000000e+00, 0.00000000e+00, 1.02075655e-02, ...,\n",
       "        0.00000000e+00, 0.00000000e+00, 0.00000000e+00],\n",
       "       ...,\n",
       "       [0.00000000e+00, 0.00000000e+00, 3.48844640e-02, ...,\n",
       "        0.00000000e+00, 6.03024244e-01, 0.00000000e+00],\n",
       "       [0.00000000e+00, 1.87961543e+00, 7.38503188e-02, ...,\n",
       "        0.00000000e+00, 2.99324465e+00, 0.00000000e+00],\n",
       "       [0.00000000e+00, 5.04511833e-01, 2.22758114e-01, ...,\n",
       "        0.00000000e+00, 2.43519163e+00, 0.00000000e+00]], dtype=float32)"
      ]
     },
     "execution_count": 24,
     "metadata": {},
     "output_type": "execute_result"
    }
   ],
   "source": [
    "descritoresVGG"
   ]
  },
  {
   "cell_type": "code",
   "execution_count": 25,
   "metadata": {},
   "outputs": [],
   "source": [
    "with open('descOlhosDirVGG.pkl', 'wb') as fid:\n",
    "    cPickle.dump(descritoresVGG, fid) "
   ]
  },
  {
   "cell_type": "code",
   "execution_count": 66,
   "metadata": {},
   "outputs": [],
   "source": [
    "with open('descOlhosDirVGG.pkl', 'rb') as fid:\n",
    "    descritoresVGG = cPickle.load(fid)"
   ]
  },
  {
   "cell_type": "code",
   "execution_count": 67,
   "metadata": {},
   "outputs": [],
   "source": [
    "yActual, yPred = diferencaAmostras(descritoresVGG, {0})"
   ]
  },
  {
   "cell_type": "code",
   "execution_count": 68,
   "metadata": {},
   "outputs": [],
   "source": []
  },
  {
   "cell_type": "code",
   "execution_count": 27,
   "metadata": {},
   "outputs": [],
   "source": [
    "fpr, tpr, thres = roc_curve(yActual, yPred)"
   ]
  },
  {
   "cell_type": "code",
   "execution_count": 28,
   "metadata": {},
   "outputs": [
    {
     "data": {
      "text/plain": [
       "Text(0, 0.5, 'True Positive Rate')"
      ]
     },
     "execution_count": 28,
     "metadata": {},
     "output_type": "execute_result"
    },
    {
     "data": {
      "image/png": "[encoded data removed]",
      "text/plain": [
       "<Figure size 432x288 with 1 Axes>"
      ]
     },
     "metadata": {
      "needs_background": "light"
     },
     "output_type": "display_data"
    }
   ],
   "source": [
    "plt.plot(fpr, tpr, marker='.')\n",
    "plt.xlabel('False Positive Rate')\n",
    "plt.ylabel('True Positive Rate')"
   ]
  },
  {
   "cell_type": "code",
   "execution_count": 29,
   "metadata": {
    "scrolled": true
   },
   "outputs": [
    {
     "name": "stdout",
     "output_type": "stream",
     "text": [
      "F1-score: 0.41134751773049644\n",
      "Melhor limiar: 0.8656359314918518\n"
     ]
    }
   ],
   "source": [
    "bestF1 = 0\n",
    "bestThres = 0\n",
    "for t in thres:\n",
    "    yPredT = [1 if x >= t else 0 for x in yPred]\n",
    "    f1s = f1_score(yActual, yPredT)\n",
    "    if f1s > bestF1:\n",
    "        bestF1 = f1s\n",
    "        bestThres = t\n",
    "print('F1-score:', bestF1)\n",
    "print('Melhor limiar:', bestThres)"
   ]
  },
  {
   "cell_type": "code",
   "execution_count": 30,
   "metadata": {},
   "outputs": [
    {
     "data": {
      "text/plain": [
       "0.8108433855568371"
      ]
     },
     "execution_count": 30,
     "metadata": {},
     "output_type": "execute_result"
    }
   ],
   "source": [
    "roc_auc_score(yActual, yPred)"
   ]
  },
  {
   "cell_type": "markdown",
   "metadata": {},
   "source": [
    "<h2>Regiões oculares - direita - sem oculos - VGGFace</h2>"
   ]
  },
  {
   "cell_type": "code",
   "execution_count": 69,
   "metadata": {},
   "outputs": [],
   "source": [
    "yActual, yPred = diferencaAmostras(descritoresVGG, {0, 1, 2, 3, 4, 5, 6, 10, 11, 12})"
   ]
  },
  {
   "cell_type": "code",
   "execution_count": 70,
   "metadata": {},
   "outputs": [],
   "source": [
    "with open('yOlhoDir.pkl', 'wb') as fid:\n",
    "    cPickle.dump(yActual, fid) \n",
    "with open('yOlhoDirPred.pkl', 'wb') as fid:\n",
    "    cPickle.dump(yPred, fid) "
   ]
  },
  {
   "cell_type": "code",
   "execution_count": 71,
   "metadata": {},
   "outputs": [],
   "source": [
    "fpr, tpr, thres = roc_curve(yActual, yPred)"
   ]
  },
  {
   "cell_type": "code",
   "execution_count": 72,
   "metadata": {},
   "outputs": [
    {
     "data": {
      "text/plain": [
       "Text(0, 0.5, 'True Positive Rate')"
      ]
     },
     "execution_count": 72,
     "metadata": {},
     "output_type": "execute_result"
    },
    {
     "data": {
      "image/png": "[encoded data removed]",
      "text/plain": [
       "<Figure size 432x288 with 1 Axes>"
      ]
     },
     "metadata": {
      "needs_background": "light"
     },
     "output_type": "display_data"
    }
   ],
   "source": [
    "plt.plot(fpr, tpr, marker='.')\n",
    "plt.xlabel('False Positive Rate')\n",
    "plt.ylabel('True Positive Rate')"
   ]
  },
  {
   "cell_type": "code",
   "execution_count": 35,
   "metadata": {
    "scrolled": true
   },
   "outputs": [
    {
     "name": "stdout",
     "output_type": "stream",
     "text": [
      "100/100\n",
      "F1-score: 0.27431513145798864\n",
      "Melhor limiar: 0.8300000000000001\n"
     ]
    }
   ],
   "source": [
    "bestF1 = 0\n",
    "bestThres = 0\n",
    "x = 0\n",
    "for t in np.arange(0, 1, 0.01):\n",
    "    clear_output(wait=True)\n",
    "    x += 1\n",
    "    print(x, '/', len(np.arange(0, 1, 0.01)), sep='', flush=True)\n",
    "    yPredT = [1 if x >= t else 0 for x in yPred]\n",
    "    f1s = f1_score(yActual, yPredT)\n",
    "    if f1s > bestF1:\n",
    "        bestF1 = f1s\n",
    "        bestThres = t\n",
    "print('F1-score:', bestF1)\n",
    "print('Melhor limiar:', bestThres)"
   ]
  },
  {
   "cell_type": "code",
   "execution_count": 36,
   "metadata": {},
   "outputs": [
    {
     "data": {
      "text/plain": [
       "0.7223205143770615"
      ]
     },
     "execution_count": 36,
     "metadata": {},
     "output_type": "execute_result"
    }
   ],
   "source": [
    "roc_auc_score(yActual, yPred)"
   ]
  },
  {
   "cell_type": "markdown",
   "metadata": {},
   "source": [
    "<h1>Classificadores para autenticação</h1>"
   ]
  },
  {
   "cell_type": "code",
   "execution_count": 20,
   "metadata": {},
   "outputs": [],
   "source": [
    "import pandas as pd\n",
    "import numpy as np\n",
    "import sys\n",
    "import sklearn\n",
    "from keras.preprocessing import sequence\n",
    "from keras.models import Sequential\n",
    "from keras.layers import Dense, Dropout, Activation, Lambda\n",
    "from keras.layers import Embedding\n",
    "from keras.layers import Convolution1D,MaxPooling1D, Flatten\n",
    "from keras.datasets import imdb\n",
    "from keras import backend as K\n",
    "from sklearn.model_selection import train_test_split\n",
    "import pandas as pd\n",
    "from keras.utils.np_utils import to_categorical\n",
    "\n",
    "from sklearn.preprocessing import Normalizer\n",
    "from keras.models import Sequential\n",
    "from keras.layers import Convolution1D, Dense, Dropout, Flatten, MaxPooling1D\n",
    "from keras.utils import np_utils\n",
    "import numpy as np\n",
    "import h5py\n",
    "from keras import callbacks\n",
    "from keras.layers import LSTM, GRU, SimpleRNN\n",
    "from keras.callbacks import CSVLogger\n",
    "from keras.callbacks import ModelCheckpoint, EarlyStopping, ReduceLROnPlateau, CSVLogger\n",
    "\n",
    "from sklearn.preprocessing import LabelEncoder,OneHotEncoder, StandardScaler\n",
    "from sklearn import preprocessing\n",
    "from sklearn.tree import DecisionTreeClassifier\n",
    "from sklearn.metrics import (precision_score, recall_score,f1_score, accuracy_score,mean_squared_error,mean_absolute_error)\n",
    "from sklearn import metrics\n",
    "from sklearn.model_selection import cross_val_score, cross_val_predict\n",
    "from sklearn.model_selection import RandomizedSearchCV\n",
    "from sklearn.model_selection import GridSearchCV\n",
    "from sklearn.ensemble import RandomForestClassifier\n",
    "from sklearn.ensemble import AdaBoostClassifier\n",
    "from sklearn.feature_selection import SelectPercentile, f_classif\n",
    "from sklearn.feature_selection import RFE\n",
    "from sklearn.ensemble import AdaBoostClassifier\n",
    "from sklearn.neural_network import MLPClassifier\n",
    "from sklearn.model_selection import PredefinedSplit\n",
    "from sklearn import svm\n",
    "import os\n",
    "from sklearn.metrics import roc_curve\n",
    "from sklearn.metrics import roc_auc_score\n",
    "from sklearn.metrics import f1_score\n",
    "from random import choice, sample, shuffle\n",
    "from scipy.spatial.distance import cosine\n",
    "from matplotlib import pyplot as plt\n",
    "import _pickle as cPickle\n",
    "os.environ['CUDA_VISIBLE_DEVICES'] = '-1' "
   ]
  },
  {
   "cell_type": "code",
   "execution_count": 21,
   "metadata": {},
   "outputs": [],
   "source": [
    "def treinarModelo(model, hyper, X, Y):  \n",
    "    metricas = ['f1', 'accuracy', 'precision', 'recall', 'auc']\n",
    "    search = RandomizedSearchCV(estimator = model, param_distributions =hyper, scoring=metricas, verbose=3, refit='f1', n_iter=50, cv = 3, return_train_score=False, n_jobs=2)\n",
    "    search.fit(X, Y);\n",
    "    model = search.best_estimator_\n",
    "    print('Melhor f1-score:', search.best_score_)\n",
    "    print('Melhores parâmetros:', search.best_params_)\n",
    "    return model"
   ]
  },
  {
   "cell_type": "code",
   "execution_count": 22,
   "metadata": {},
   "outputs": [],
   "source": [
    "def testarModelo(Y, Y_test):\n",
    "    print('Matriz de confusão')\n",
    "    print('')\n",
    "    print(pd.crosstab(Y_test, Y_pred, rownames=['Actual'], colnames=['Predicted']))\n",
    "    print('')\n",
    "    print('Métricas I')\n",
    "    accuracy = accuracy_score(Y_test, Y_pred)\n",
    "    recall = recall_score(Y_test, Y_pred, average=\"binary\")\n",
    "    precision = precision_score(Y_test, Y_pred, average=\"binary\")\n",
    "    f1 = f1_score(Y_test, Y_pred, average=\"binary\")\n",
    "    print(\"accuracy\")\n",
    "    print(\"%.6f\" %accuracy)\n",
    "    print(\"racall\")\n",
    "    print(\"%.6f\" %recall)\n",
    "    print(\"precision\")\n",
    "    print(\"%.6f\" %precision)\n",
    "    print(\"f1score\")\n",
    "    print(\"%.6f\" %f1)"
   ]
  },
  {
   "cell_type": "code",
   "execution_count": 23,
   "metadata": {},
   "outputs": [],
   "source": [
    "#Função para calcular a diferença de dois descritores\n",
    "def subtract(a, b):\n",
    "    c = []\n",
    "    for i in range(len(a)):\n",
    "        c.append(a[i]-b[i])\n",
    "    return c\n",
    "\n",
    "def diferencaAmostras(descritores, pessoasAceitas, posesAceitas):\n",
    "    yActual = []\n",
    "    difAmost = []\n",
    "    for i in range(len(pessoasAceitas)):\n",
    "        p = pessoasAceitas[i]\n",
    "        amostraProva = descritores[pessoas[p][0]] #pose normal\n",
    "        #amostras verdadeiras/da mesma pessoas\n",
    "        for s in range(qtdeSessoes):\n",
    "            for pose in posesAceitas:\n",
    "                if (pose == 0) and (s == 0):  #não vamos comparar a imagem com si mesma\n",
    "                    continue;\n",
    "                yActual.append(1)\n",
    "                amostraCandidata = descritores[pessoas[p][pose + s*qtdePoses]]\n",
    "                difAmost.append(subtract(amostraProva, amostraCandidata))\n",
    "        #amostras falsas/pessoas diferentes\n",
    "        for j in range(i+1, len(pessoasAceitas)):\n",
    "            p2 = pessoasAceitas[j]\n",
    "            for s in range(qtdeSessoes):\n",
    "                for pose in posesAceitas:\n",
    "                    yActual.append(0)\n",
    "                    amostraCandidata = descritores[pessoas[p2][pose + s*qtdePoses]]\n",
    "                    difAmost.append(subtract(amostraProva, amostraCandidata))\n",
    "    return (yActual, difAmost)"
   ]
  },
  {
   "cell_type": "code",
   "execution_count": 24,
   "metadata": {},
   "outputs": [],
   "source": [
    "#Separando conjunto de treino e teste\n",
    "pessoasInd = [x for x in range(qtdeHomens + qtdeMulheres)]\n",
    "shuffle(pessoasInd)"
   ]
  },
  {
   "cell_type": "code",
   "execution_count": 26,
   "metadata": {},
   "outputs": [],
   "source": [
    "train = pessoasInd[:int(0.6*len(pessoasInd))]\n",
    "test = pessoasInd[int(0.6*len(pessoasInd)):]\n",
    "with open('trainClass.pkl', 'wb') as fid:\n",
    "    cPickle.dump(train, fid) \n",
    "with open('testClass.pkl', 'wb') as fid:\n",
    "    cPickle.dump(test, fid) "
   ]
  },
  {
   "cell_type": "code",
   "execution_count": 10,
   "metadata": {},
   "outputs": [],
   "source": [
    "with open('descFacesVGG.pkl', 'rb') as fid:\n",
    "    descritoresVGG = cPickle.load(fid)"
   ]
  },
  {
   "cell_type": "markdown",
   "metadata": {},
   "source": [
    "<h2>Faces Neutras</h2>"
   ]
  },
  {
   "cell_type": "code",
   "execution_count": 33,
   "metadata": {},
   "outputs": [],
   "source": [
    "yActualTrain, difTrain = diferencaAmostras(descritoresVGG, train, {0})"
   ]
  },
  {
   "cell_type": "code",
   "execution_count": 34,
   "metadata": {},
   "outputs": [
    {
     "data": {
      "text/plain": [
       "6561"
      ]
     },
     "execution_count": 34,
     "metadata": {},
     "output_type": "execute_result"
    }
   ],
   "source": [
    "len(yActualTrain)"
   ]
  },
  {
   "cell_type": "code",
   "execution_count": 35,
   "metadata": {},
   "outputs": [
    {
     "name": "stdout",
     "output_type": "stream",
     "text": [
      "[LibSVM]"
     ]
    }
   ],
   "source": [
    "model = svm.SVC(probability=True, verbose=1)\n",
    "model.fit(difTrain, yActualTrain)\n",
    "with open('SVMneutral.pkl', 'wb') as fid:\n",
    "    cPickle.dump(model, fid) "
   ]
  },
  {
   "cell_type": "code",
   "execution_count": 27,
   "metadata": {},
   "outputs": [],
   "source": [
    "with open('SVMneutral.pkl', 'rb') as fid:\n",
    "    model = cPickle.load(fid)"
   ]
  },
  {
   "cell_type": "code",
   "execution_count": 36,
   "metadata": {},
   "outputs": [],
   "source": [
    "yActualTest, difTest = diferencaAmostras(descritoresVGG, test, {0})"
   ]
  },
  {
   "cell_type": "code",
   "execution_count": 37,
   "metadata": {},
   "outputs": [],
   "source": [
    "Y_prob = model.predict_proba(difTest)"
   ]
  },
  {
   "cell_type": "code",
   "execution_count": 38,
   "metadata": {},
   "outputs": [],
   "source": [
    "Y_pred = []\n",
    "for x in Y_prob:\n",
    "    Y_pred.append(x[1])"
   ]
  },
  {
   "cell_type": "code",
   "execution_count": 41,
   "metadata": {},
   "outputs": [],
   "source": [
    "with open('yFNsvm.pkl', 'wb') as fid:\n",
    "    cPickle.dump(yActualTest, fid) \n",
    "with open('yFNsvmPred.pkl', 'wb') as fid:\n",
    "    cPickle.dump(Y_pred, fid) "
   ]
  },
  {
   "cell_type": "code",
   "execution_count": 39,
   "metadata": {},
   "outputs": [],
   "source": [
    "fpr, tpr, thres = roc_curve(yActualTest, Y_pred)"
   ]
  },
  {
   "cell_type": "code",
   "execution_count": 40,
   "metadata": {},
   "outputs": [
    {
     "data": {
      "text/plain": [
       "Text(0, 0.5, 'True Positive Rate')"
      ]
     },
     "execution_count": 40,
     "metadata": {},
     "output_type": "execute_result"
    },
    {
     "data": {
      "image/png": "[encoded data removed]",
      "text/plain": [
       "<Figure size 432x288 with 1 Axes>"
      ]
     },
     "metadata": {
      "needs_background": "light"
     },
     "output_type": "display_data"
    }
   ],
   "source": [
    "plt.plot(fpr, tpr, marker='.')\n",
    "plt.xlabel('False Positive Rate')\n",
    "plt.ylabel('True Positive Rate')"
   ]
  },
  {
   "cell_type": "code",
   "execution_count": null,
   "metadata": {},
   "outputs": [],
   "source": []
  },
  {
   "cell_type": "markdown",
   "metadata": {},
   "source": [
    "<h2>Todas as faces</h2>"
   ]
  },
  {
   "cell_type": "code",
   "execution_count": 42,
   "metadata": {},
   "outputs": [],
   "source": [
    "yActualTrain, difTrain = diferencaAmostras(descritoresVGG, train, {x for x in range(qtdePoses)})"
   ]
  },
  {
   "cell_type": "code",
   "execution_count": 43,
   "metadata": {},
   "outputs": [
    {
     "data": {
      "text/plain": [
       "86265"
      ]
     },
     "execution_count": 43,
     "metadata": {},
     "output_type": "execute_result"
    }
   ],
   "source": [
    "len(yActualTrain)"
   ]
  },
  {
   "cell_type": "code",
   "execution_count": 44,
   "metadata": {},
   "outputs": [],
   "source": [
    "scaler = StandardScaler()\n",
    "difTrainNorm = scaler.fit_transform(difTrain)"
   ]
  },
  {
   "cell_type": "code",
   "execution_count": 45,
   "metadata": {},
   "outputs": [],
   "source": [
    "with open('scalerAll.pkl', 'wb') as fid:\n",
    "    cPickle.dump(scaler, fid) "
   ]
  },
  {
   "cell_type": "code",
   "execution_count": 46,
   "metadata": {},
   "outputs": [
    {
     "name": "stdout",
     "output_type": "stream",
     "text": [
      "[LibSVM]"
     ]
    },
    {
     "name": "stderr",
     "output_type": "stream",
     "text": [
      "c:\\users\\pedro\\miniconda3\\lib\\site-packages\\sklearn\\svm\\_base.py:246: ConvergenceWarning: Solver terminated early (max_iter=5000).  Consider pre-processing your data with StandardScaler or MinMaxScaler.\n",
      "  warnings.warn('Solver terminated early (max_iter=%i).'\n"
     ]
    }
   ],
   "source": [
    "model = svm.SVC(probability=True, verbose=1, max_iter=5000)\n",
    "model.fit(difTrainNorm, yActualTrain)\n",
    "with open('SVMall.pkl', 'wb') as fid:\n",
    "    cPickle.dump(model, fid) "
   ]
  },
  {
   "cell_type": "code",
   "execution_count": 47,
   "metadata": {},
   "outputs": [],
   "source": [
    "yActualTest, difTest = diferencaAmostras(descritoresVGG, test, {x for x in range(qtdePoses)})"
   ]
  },
  {
   "cell_type": "code",
   "execution_count": 48,
   "metadata": {},
   "outputs": [],
   "source": [
    "difTestNorm = scaler.transform(difTest)"
   ]
  },
  {
   "cell_type": "code",
   "execution_count": 49,
   "metadata": {},
   "outputs": [],
   "source": [
    "Y_prob = model.predict_proba(difTestNorm)"
   ]
  },
  {
   "cell_type": "code",
   "execution_count": 50,
   "metadata": {},
   "outputs": [],
   "source": [
    "Y_pred = []\n",
    "for x in Y_prob:\n",
    "    Y_pred.append(x[1])"
   ]
  },
  {
   "cell_type": "code",
   "execution_count": 51,
   "metadata": {},
   "outputs": [],
   "source": [
    "with open('yTFsvm.pkl', 'wb') as fid:\n",
    "    cPickle.dump(yActualTest, fid) \n",
    "with open('yTFsvmPred.pkl', 'wb') as fid:\n",
    "    cPickle.dump(Y_pred, fid) "
   ]
  },
  {
   "cell_type": "code",
   "execution_count": 52,
   "metadata": {},
   "outputs": [],
   "source": [
    "fpr, tpr, thres = roc_curve(yActualTest, Y_pred)"
   ]
  },
  {
   "cell_type": "code",
   "execution_count": 53,
   "metadata": {
    "scrolled": true
   },
   "outputs": [
    {
     "data": {
      "text/plain": [
       "Text(0, 0.5, 'True Positive Rate')"
      ]
     },
     "execution_count": 53,
     "metadata": {},
     "output_type": "execute_result"
    },
    {
     "data": {
      "image/png": "[encoded data removed]",
      "text/plain": [
       "<Figure size 432x288 with 1 Axes>"
      ]
     },
     "metadata": {
      "needs_background": "light"
     },
     "output_type": "display_data"
    }
   ],
   "source": [
    "plt.plot(fpr, tpr, marker='.')\n",
    "plt.xlabel('False Positive Rate')\n",
    "plt.ylabel('True Positive Rate')"
   ]
  }
 ],
 "metadata": {
  "kernelspec": {
   "display_name": "Python 3",
   "language": "python",
   "name": "python3"
  },
  "language_info": {
   "codemirror_mode": {
    "name": "ipython",
    "version": 3
   },
   "file_extension": ".py",
   "mimetype": "text/x-python",
   "name": "python",
   "nbconvert_exporter": "python",
   "pygments_lexer": "ipython3",
   "version": "3.8.3"
  }
 },
 "nbformat": 4,
 "nbformat_minor": 4
}
